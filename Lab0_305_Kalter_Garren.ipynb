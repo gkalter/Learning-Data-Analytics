{
  "nbformat": 4,
  "nbformat_minor": 0,
  "metadata": {
    "colab": {
      "name": "Lab0_305_Kalter_Garren.ipynb",
      "provenance": []
    },
    "kernelspec": {
      "name": "python3",
      "display_name": "Python 3"
    },
    "language_info": {
      "name": "python"
    }
  },
  "cells": [
    {
      "cell_type": "markdown",
      "source": [
        "# DS 105/305  Spring 2022  \n",
        "# Lab 0\n",
        "\n",
        "# Due: Tuesday, Jan. 25 by 11:59PM"
      ],
      "metadata": {
        "id": "qU60HlV6lMGf"
      }
    },
    {
      "cell_type": "markdown",
      "source": [
        "Rename your notebook (in the upper left) from Untitled.ipynb to Lab0_NNN_Last_First where NNN is either 105 or 305 and Last and First are you last and first names, respectively."
      ],
      "metadata": {
        "id": "RPeaPkQolrcb"
      }
    },
    {
      "cell_type": "markdown",
      "source": [
        "Begin by using the Files panel on the left to import the yob1880.txt file into your workspace.  Then make sure the following two cells run correctly - you should see that the list has 2000 items in it.  "
      ],
      "metadata": {
        "id": "-8W51jjsfzEn"
      }
    },
    {
      "cell_type": "code",
      "source": [
        "import csv\n",
        "names = list()\n",
        "with open('yob1880.txt', newline='') as f:\n",
        "    reader = csv.reader(f)\n",
        "    for row in reader:\n",
        "        names.append(row)\n",
        "        "
      ],
      "metadata": {
        "id": "IMqPE1IaegU7"
      },
      "execution_count": null,
      "outputs": []
    },
    {
      "cell_type": "code",
      "source": [
        "##from google.colab import drive\n",
        "#drive.mount('/content/drive')\n",
        "#alternative way to import "
      ],
      "metadata": {
        "id": "q0z9G8nb_9pk"
      },
      "execution_count": null,
      "outputs": []
    },
    {
      "cell_type": "code",
      "source": [
        "len(names)"
      ],
      "metadata": {
        "colab": {
          "base_uri": "https://localhost:8080/"
        },
        "id": "EAqu7rVjfY1_",
        "outputId": "1af36ad0-7e43-4144-d6d9-711bd0bdacf7"
      },
      "execution_count": null,
      "outputs": [
        {
          "output_type": "execute_result",
          "data": {
            "text/plain": [
              "2000"
            ]
          },
          "metadata": {},
          "execution_count": 3
        }
      ]
    },
    {
      "cell_type": "code",
      "source": [
        "# What does one item look like?\n",
        "names[1001]"
      ],
      "metadata": {
        "colab": {
          "base_uri": "https://localhost:8080/"
        },
        "id": "06ihlwKUfpsI",
        "outputId": "9251aa65-3b14-422d-e547-fde31596d81e"
      },
      "execution_count": null,
      "outputs": [
        {
          "output_type": "execute_result",
          "data": {
            "text/plain": [
              "['Paul', 'M', '301']"
            ]
          },
          "metadata": {},
          "execution_count": 4
        }
      ]
    },
    {
      "cell_type": "markdown",
      "source": [
        "Each row in the file contains three strings, a name, either 'F' or 'M', and a frequency count, represented as a string.  Notice that a certain bias is already indicated in this dataset!"
      ],
      "metadata": {
        "id": "A0uIxsmlgcQ7"
      }
    },
    {
      "cell_type": "code",
      "source": [
        "for (name, sex, count) in names:\n",
        "  if (name[0] == \"X\"):\n",
        "    print(name, count)"
      ],
      "metadata": {
        "id": "jf4nz3MsgVZq"
      },
      "execution_count": null,
      "outputs": []
    },
    {
      "cell_type": "markdown",
      "source": [
        "Now build a single Python dictionary all_names with all the names as keys and the counts as values.  Use int() to convert the counts from strings to actual integers."
      ],
      "metadata": {
        "id": "mEZ-pkYxh0o-"
      }
    },
    {
      "cell_type": "code",
      "source": [
        "# dictionary all_names\n",
        "all_names = {}\n",
        "for (name, sex, count) in names:\n",
        "  if name in all_names:\n",
        "     all_names[name] += int(count)\n",
        "  else:\n",
        "    all_names[name] = int(count)\n",
        "  \n",
        "print(all_names)\n",
        "\n",
        "\n",
        "\n",
        "\n",
        "  \n",
        "\n",
        "  \n",
        "\n",
        "\n",
        "\n",
        "\n",
        "\n",
        "\n"
      ],
      "metadata": {
        "id": "L-KYE6GIiGnw",
        "colab": {
          "base_uri": "https://localhost:8080/"
        },
        "outputId": "f3ff9065-b4e2-4edd-f1c4-3b6ffda24e4a"
      },
      "execution_count": null,
      "outputs": [
        {
          "output_type": "stream",
          "name": "stdout",
          "text": [
            "{'Mary': 7092, 'Anna': 2616, 'Emma': 2013, 'Elizabeth': 1948, 'Minnie': 1755, 'Margaret': 1578, 'Ida': 1480, 'Alice': 1414, 'Bertha': 1320, 'Sarah': 1288, 'Annie': 1264, 'Clara': 1234, 'Ella': 1156, 'Florence': 1071, 'Cora': 1051, 'Martha': 1040, 'Laura': 1012, 'Nellie': 1001, 'Grace': 988, 'Carrie': 957, 'Maude': 858, 'Mabel': 808, 'Bessie': 794, 'Jennie': 800, 'Gertrude': 787, 'Julia': 783, 'Hattie': 775, 'Edith': 773, 'Mattie': 709, 'Rose': 707, 'Catherine': 688, 'Lillian': 672, 'Ada': 652, 'Lillie': 652, 'Helen': 636, 'Jessie': 789, 'Louise': 635, 'Ethel': 639, 'Lula': 621, 'Myrtle': 620, 'Eva': 614, 'Frances': 621, 'Lena': 603, 'Lucy': 591, 'Edna': 588, 'Maggie': 582, 'Pearl': 631, 'Daisy': 569, 'Fannie': 560, 'Josephine': 544, 'Dora': 530, 'Rosa': 507, 'Katherine': 507, 'Agnes': 473, 'Marie': 471, 'Nora': 476, 'May': 462, 'Mamie': 436, 'Blanche': 427, 'Stella': 414, 'Ellen': 411, 'Nancy': 411, 'Effie': 406, 'Sallie': 404, 'Nettie': 403, 'Della': 391, 'Lizzie': 388, 'Flora': 370, 'Susie': 361, 'Maud': 345, 'Mae': 344, 'Etta': 323, 'Harriet': 319, 'Sadie': 317, 'Caroline': 306, 'Katie': 303, 'Lydia': 302, 'Elsie': 307, 'Kate': 299, 'Susan': 286, 'Mollie': 283, 'Alma': 291, 'Addie': 282, 'Georgia': 259, 'Eliza': 258, 'Lulu': 249, 'Nannie': 248, 'Lottie': 245, 'Amanda': 241, 'Belle': 238, 'Charlotte': 237, 'Rebecca': 236, 'Ruth': 234, 'Viola': 229, 'Olive': 224, 'Amelia': 221, 'Hannah': 221, 'Jane': 215, 'Virginia': 213, 'Emily': 210, 'Matilda': 210, 'Irene': 204, 'Kathryn': 204, 'Esther': 198, 'Willie': 668, 'Henrietta': 191, 'Ollie': 246, 'Amy': 167, 'Rachel': 166, 'Sara': 165, 'Estella': 162, 'Theresa': 153, 'Augusta': 156, 'Ora': 213, 'Pauline': 144, 'Josie': 141, 'Lola': 138, 'Sophia': 138, 'Leona': 137, 'Anne': 136, 'Mildred': 132, 'Ann': 131, 'Beulah': 131, 'Callie': 131, 'Lou': 145, 'Delia': 129, 'Eleanor': 129, 'Barbara': 127, 'Iva': 127, 'Louisa': 126, 'Maria': 125, 'Mayme': 124, 'Evelyn': 122, 'Estelle': 119, 'Nina': 119, 'Betty': 117, 'Marion': 304, 'Bettie': 113, 'Dorothy': 112, 'Luella': 111, 'Inez': 106, 'Lela': 106, 'Rosie': 106, 'Allie': 136, 'Millie': 105, 'Janie': 96, 'Cornelia': 94, 'Victoria': 93, 'Ruby': 98, 'Winifred': 92, 'Alta': 91, 'Celia': 90, 'Christine': 89, 'Beatrice': 87, 'Birdie': 85, 'Harriett': 83, 'Mable': 83, 'Myra': 83, 'Sophie': 83, 'Tillie': 83, 'Isabel': 81, 'Sylvia': 81, 'Carolyn': 80, 'Isabelle': 80, 'Leila': 80, 'Sally': 80, 'Ina': 79, 'Essie': 78, 'Bertie': 85, 'Nell': 77, 'Alberta': 76, 'Katharine': 76, 'Lora': 74, 'Rena': 74, 'Mina': 73, 'Rhoda': 73, 'Mathilda': 72, 'Abbie': 71, 'Eula': 70, 'Dollie': 69, 'Hettie': 69, 'Eunice': 67, 'Fanny': 67, 'Ola': 67, 'Lenora': 66, 'Adelaide': 65, 'Christina': 65, 'Lelia': 65, 'Nelle': 65, 'Sue': 65, 'Johanna': 64, 'Lilly': 64, 'Lucinda': 63, 'Minerva': 63, 'Lettie': 62, 'Roxie': 62, 'Cynthia': 61, 'Helena': 60, 'Hilda': 60, 'Hulda': 60, 'Bernice': 59, 'Genevieve': 59, 'Jean': 71, 'Cordelia': 58, 'Marian': 56, 'Francis': 399, 'Jeanette': 55, 'Adeline': 54, 'Gussie': 54, 'Leah': 54, 'Lois': 53, 'Lura': 53, 'Mittie': 53, 'Hallie': 57, 'Isabella': 50, 'Olga': 50, 'Phoebe': 50, 'Teresa': 50, 'Hester': 49, 'Lida': 49, 'Lina': 49, 'Winnie': 49, 'Claudia': 48, 'Marguerite': 48, 'Vera': 48, 'Cecelia': 47, 'Bess': 46, 'Emilie': 46, 'John': 9701, 'Rosetta': 46, 'Verna': 46, 'Myrtie': 45, 'Cecilia': 44, 'Elva': 44, 'Olivia': 44, 'Ophelia': 44, 'Georgie': 43, 'Elnora': 42, 'Violet': 42, 'Adele': 41, 'Lily': 41, 'Linnie': 41, 'Loretta': 41, 'Madge': 41, 'Polly': 41, 'Virgie': 41, 'Eugenia': 40, 'Lucile': 40, 'Lucille': 40, 'Mabelle': 39, 'Rosalie': 39, 'Kittie': 38, 'Meta': 37, 'Angie': 36, 'Dessie': 36, 'Georgiana': 36, 'Lila': 36, 'Regina': 36, 'Selma': 36, 'Wilhelmina': 36, 'Bridget': 35, 'Lilla': 35, 'Malinda': 35, 'Vina': 35, 'Freda': 34, 'Gertie': 34, 'Jeannette': 34, 'Louella': 34, 'Mandy': 34, 'Roberta': 34, 'Cassie': 33, 'Corinne': 33, 'Ivy': 38, 'Melissa': 33, 'Lyda': 32, 'Naomi': 32, 'Norma': 32, 'Bell': 31, 'Margie': 31, 'Nona': 31, 'Zella': 31, 'Dovie': 30, 'Elvira': 30, 'Erma': 30, 'Irma': 30, 'Leota': 30, 'William': 9563, 'Artie': 34, 'Blanch': 29, 'Charity': 29, 'Janet': 29, 'Lorena': 29, 'Lucretia': 29, 'Orpha': 29, 'Alvina': 28, 'Annette': 28, 'Catharine': 28, 'Elma': 28, 'Geneva': 28, 'Lee': 389, 'Leora': 28, 'Lona': 28, 'Miriam': 28, 'Zora': 28, 'Linda': 27, 'Octavia': 27, 'Sudie': 27, 'Zula': 27, 'Adella': 26, 'Alpha': 32, 'Frieda': 26, 'George': 5152, 'Joanna': 26, 'Leonora': 26, 'Priscilla': 26, 'Tennie': 26, 'Angeline': 25, 'Docia': 25, 'Ettie': 25, 'Flossie': 25, 'Hanna': 25, 'Letha': 25, 'Minta': 25, 'Retta': 25, 'Rosella': 25, 'Adah': 24, 'Berta': 24, 'Elisabeth': 24, 'Elise': 24, 'Goldie': 24, 'Leola': 24, 'Margret': 24, 'Adaline': 23, 'Floy': 23, 'Idella': 23, 'Juanita': 23, 'Lenna': 23, 'Lucie': 23, 'Missouri': 23, 'Nola': 23, 'Zoe': 23, 'Eda': 22, 'Isabell': 22, 'James': 5949, 'Julie': 22, 'Letitia': 22, 'Madeline': 22, 'Malissa': 22, 'Mariah': 22, 'Pattie': 22, 'Vivian': 29, 'Almeda': 21, 'Aurelia': 21, 'Claire': 21, 'Dolly': 21, 'Hazel': 21, 'Jannie': 21, 'Kathleen': 21, 'Kathrine': 21, 'Lavinia': 21, 'Marietta': 21, 'Melvina': 21, 'Ona': 21, 'Pinkie': 21, 'Samantha': 21, 'Susanna': 21, 'Chloe': 20, 'Donnie': 20, 'Elsa': 20, 'Gladys': 20, 'Matie': 20, 'Pearle': 20, 'Vesta': 20, 'Vinnie': 20, 'Antoinette': 19, 'Clementine': 19, 'Edythe': 19, 'Harriette': 19, 'Libbie': 19, 'Lilian': 19, 'Lue': 19, 'Lutie': 19, 'Magdalena': 19, 'Meda': 19, 'Rita': 19, 'Tena': 19, 'Zelma': 19, 'Adelia': 18, 'Annetta': 18, 'Antonia': 18, 'Dona': 18, 'Elizebeth': 18, 'Georgianna': 18, 'Gracie': 18, 'Iona': 18, 'Lessie': 18, 'Leta': 18, 'Liza': 18, 'Mertie': 18, 'Molly': 18, 'Neva': 18, 'Oma': 18, 'Alida': 17, 'Alva': 87, 'Cecile': 17, 'Cleo': 22, 'Donna': 17, 'Ellie': 17, 'Ernestine': 17, 'Evie': 17, 'Frankie': 17, 'Helene': 17, 'Minna': 17, 'Myrta': 17, 'Prudence': 17, 'Queen': 17, 'Rilla': 17, 'Savannah': 17, 'Tessie': 17, 'Tina': 17, 'Agatha': 16, 'America': 16, 'Anita': 16, 'Arminta': 16, 'Dorothea': 16, 'Ira': 265, 'Luvenia': 16, 'Marjorie': 16, 'Maybelle': 16, 'Mellie': 16, 'Nan': 16, 'Pearlie': 16, 'Sidney': 158, 'Velma': 16, 'Clare': 23, 'Constance': 15, 'Dixie': 15, 'Ila': 15, 'Iola': 15, 'Jimmie': 39, 'Louvenia': 15, 'Lucia': 15, 'Ludie': 15, 'Luna': 15, 'Metta': 15, 'Patsy': 15, 'Phebe': 15, 'Sophronia': 15, 'Adda': 14, 'Avis': 14, 'Betsy': 14, 'Bonnie': 14, 'Cecil': 59, 'Cordie': 14, 'Emmaline': 14, 'Ethelyn': 14, 'Hortense': 14, 'June': 23, 'Louie': 47, 'Lovie': 14, 'Marcella': 14, 'Melinda': 14, 'Mona': 14, 'Odessa': 14, 'Veronica': 14, 'Aimee': 13, 'Annabel': 13, 'Ava': 13, 'Bella': 13, 'Carolina': 13, 'Cathrine': 13, 'Christena': 13, 'Clyde': 234, 'Dena': 13, 'Dolores': 13, 'Eleanore': 13, 'Elmira': 13, 'Fay': 28, 'Frank': 3255, 'Jenny': 13, 'Kizzie': 13, 'Lonnie': 66, 'Loula': 13, 'Magdalene': 13, 'Mettie': 13, 'Mintie': 13, 'Peggy': 13, 'Reba': 13, 'Serena': 13, 'Vida': 13, 'Zada': 13, 'Abigail': 12, 'Celestine': 12, 'Celina': 12, 'Claudie': 12, 'Clemmie': 12, 'Connie': 19, 'Daisie': 12, 'Deborah': 12, 'Dessa': 12, 'Easter': 12, 'Eddie': 141, 'Emelia': 12, 'Emmie': 12, 'Imogene': 12, 'India': 12, 'Jeanne': 12, 'Joan': 12, 'Lenore': 12, 'Liddie': 12, 'Lotta': 12, 'Mame': 12, 'Nevada': 12, 'Rachael': 12, 'Sina': 12, 'Willa': 12, 'Aline': 11, 'Beryl': 11, 'Charles': 5359, 'Daisey': 11, 'Dorcas': 11, 'Edmonia': 11, 'Effa': 11, 'Eldora': 11, 'Eloise': 11, 'Emmer': 11, 'Era': 11, 'Gena': 11, 'Henry': 2455, 'Iris': 11, 'Izora': 11, 'Lennie': 11, 'Lissie': 11, 'Mallie': 11, 'Malvina': 11, 'Mathilde': 11, 'Mazie': 11, 'Queenie': 11, 'Robert': 2427, 'Rosina': 11, 'Salome': 11, 'Theodora': 11, 'Therese': 11, 'Vena': 11, 'Wanda': 11, 'Wilda': 11, 'Altha': 10, 'Anastasia': 10, 'Besse': 10, 'Bird': 17, 'Birtie': 10, 'Clarissa': 10, 'Claude': 319, 'Delilah': 10, 'Diana': 10, 'Emelie': 10, 'Erna': 10, 'Fern': 10, 'Florida': 10, 'Frona': 10, 'Hilma': 10, 'Joseph': 2642, 'Juliet': 10, 'Leonie': 10, 'Lugenia': 10, 'Mammie': 10, 'Manda': 10, 'Manerva': 10, 'Manie': 10, 'Nella': 10, 'Paulina': 10, 'Philomena': 10, 'Rae': 10, 'Selina': 10, 'Sena': 10, 'Theodosia': 10, 'Tommie': 25, 'Una': 10, 'Vernie': 16, 'Adela': 9, 'Althea': 9, 'Amalia': 9, 'Amber': 9, 'Angelina': 9, 'Annabelle': 9, 'Anner': 9, 'Arie': 9, 'Clarice': 9, 'Corda': 9, 'Corrie': 9, 'Dell': 24, 'Dellar': 9, 'Donie': 9, 'Doris': 9, 'Elda': 9, 'Elinor': 9, 'Emeline': 9, 'Emilia': 9, 'Esta': 9, 'Estell': 9, 'Etha': 9, 'Fred': 1578, 'Hope': 15, 'Indiana': 9, 'Ione': 9, 'Jettie': 9, 'Johnnie': 33, 'Josiephine': 9, 'Kitty': 9, 'Lavina': 9, 'Leda': 9, 'Letta': 9, 'Mahala': 9, 'Marcia': 9, 'Margarette': 9, 'Maudie': 9, 'Maye': 9, 'Norah': 9, 'Oda': 15, 'Patty': 9, 'Paula': 9, 'Permelia': 9, 'Rosalia': 9, 'Roxanna': 9, 'Sula': 9, 'Vada': 9, 'Winnifred': 9, 'Adline': 8, 'Almira': 8, 'Alvena': 8, 'Arizona': 8, 'Becky': 8, 'Bennie': 34, 'Bernadette': 8, 'Camille': 8, 'Cordia': 8, 'Corine': 8, 'Dicie': 8, 'Dove': 8, 'Drusilla': 8, 'Elena': 8, 'Elenora': 8, 'Elmina': 8, 'Ethyl': 8, 'Evalyn': 8, 'Evelina': 8, 'Faye': 8, 'Huldah': 8, 'Idell': 8, 'Inga': 8, 'Irena': 8, 'Jewell': 8, 'Kattie': 8, 'Lavenia': 8, 'Leslie': 87, 'Lovina': 8, 'Lulie': 8, 'Magnolia': 8, 'Margeret': 8, 'Margery': 8, 'Media': 8, 'Millicent': 8, 'Nena': 8, 'Ocie': 8, 'Orilla': 8, 'Osie': 8, 'Pansy': 8, 'Ray': 150, 'Rosia': 8, 'Rowena': 8, 'Shirley': 18, 'Tabitha': 8, 'Thomas': 2542, 'Verdie': 8, 'Walter': 1763, 'Zetta': 8, 'Zoa': 8, 'Zona': 8, 'Albertina': 7, 'Albina': 7, 'Alyce': 7, 'Amie': 7, 'Angela': 7, 'Annis': 7, 'Carol': 7, 'Carra': 7, 'Clarence': 737, 'Clarinda': 7, 'Delphia': 7, 'Dillie': 7, 'Doshie': 7, 'Drucilla': 7, 'Etna': 7, 'Eugenie': 7, 'Eulalia': 7, 'Eve': 7, 'Felicia': 7, 'Florance': 7, 'Fronie': 7, 'Geraldine': 7, 'Gina': 7, 'Glenna': 7, 'Grayce': 7, 'Hedwig': 7, 'Jessica': 7, 'Jossie': 7, 'Katheryn': 7, 'Katy': 7, 'Lea': 7, 'Leanna': 7, 'Leitha': 7, 'Leone': 7, 'Lidie': 7, 'Loma': 7, 'Lular': 7, 'Magdalen': 7, 'Maymie': 7, 'Minervia': 7, 'Muriel': 7, 'Neppie': 7, 'Olie': 7, 'Onie': 7, 'Osa': 7, 'Otelia': 7, 'Paralee': 7, 'Patience': 7, 'Rella': 7, 'Rillie': 7, 'Rosanna': 7, 'Theo': 16, 'Tilda': 7, 'Tishie': 7, 'Tressa': 7, 'Viva': 7, 'Yetta': 7, 'Zena': 7, 'Zola': 7, 'Abby': 6, 'Aileen': 6, 'Alba': 6, 'Alda': 6, 'Alla': 6, 'Alverta': 6, 'Ara': 6, 'Ardelia': 6, 'Ardella': 6, 'Arrie': 6, 'Arvilla': 6, 'Augustine': 18, 'Aurora': 6, 'Bama': 6, 'Bena': 6, 'Byrd': 6, 'Calla': 6, 'Camilla': 6, 'Carey': 19, 'Carlotta': 6, 'Celestia': 6, 'Cherry': 6, 'Cinda': 6, 'Classie': 6, 'Claudine': 6, 'Clemie': 6, 'Clifford': 133, 'Clyda': 6, 'Creola': 6, 'Debbie': 6, 'Dee': 26, 'Dinah': 6, 'Doshia': 6, 'Ednah': 6, 'Edyth': 6, 'Eleanora': 6, 'Electa': 6, 'Eola': 6, 'Erie': 12, 'Eudora': 6, 'Euphemia': 6, 'Evalena': 6, 'Evaline': 6, 'Faith': 6, 'Fidelia': 6, 'Freddie': 15, 'Golda': 6, 'Harry': 2158, 'Helma': 6, 'Hermine': 6, 'Hessie': 6, 'Ivah': 6, 'Janette': 6, 'Jennette': 6, 'Joella': 6, 'Kathryne': 6, 'Lacy': 15, 'Lanie': 6, 'Lauretta': 6, 'Leana': 6, 'Leatha': 6, 'Leo': 153, 'Liller': 6, 'Lillis': 6, 'Louetta': 6, 'Madie': 6, 'Mai': 6, 'Martina': 6, 'Maryann': 6, 'Melva': 6, 'Mena': 6, 'Mercedes': 6, 'Merle': 23, 'Mima': 6, 'Minda': 6, 'Monica': 6, 'Nealie': 6, 'Netta': 6, 'Nolia': 6, 'Nonie': 6, 'Odelia': 6, 'Ottilie': 6, 'Phyllis': 6, 'Robbie': 6, 'Sabina': 6, 'Sada': 6, 'Sammie': 12, 'Suzanne': 6, 'Sybilla': 6, 'Thea': 6, 'Tressie': 6, 'Vallie': 6, 'Venie': 6, 'Viney': 6, 'Wilhelmine': 6, 'Winona': 6, 'Zelda': 6, 'Zilpha': 6, 'Adelle': 5, 'Adina': 5, 'Adrienne': 5, 'Albertine': 5, 'Alys': 5, 'Ana': 5, 'Araminta': 5, 'Arthur': 1604, 'Birtha': 5, 'Bulah': 5, 'Caddie': 5, 'Celie': 5, 'Charlotta': 5, 'Clair': 17, 'Concepcion': 5, 'Cordella': 5, 'Corrine': 5, 'Delila': 5, 'Delphine': 5, 'Dosha': 5, 'Edgar': 288, 'Elaine': 5, 'Elisa': 5, 'Ellar': 5, 'Elmire': 5, 'Elvina': 5, 'Ena': 5, 'Estie': 5, 'Etter': 5, 'Fronnie': 5, 'Genie': 5, 'Georgina': 5, 'Glenn': 48, 'Gracia': 5, 'Guadalupe': 5, 'Gwendolyn': 5, 'Hassie': 5, 'Honora': 5, 'Icy': 5, 'Isa': 5, 'Isadora': 5, 'Jesse': 574, 'Jewel': 10, 'Joe': 736, 'Johannah': 5, 'Juana': 5, 'Judith': 5, 'Judy': 5, 'Junie': 5, 'Lavonia': 5, 'Lella': 5, 'Lemma': 5, 'Letty': 5, 'Linna': 5, 'Littie': 5, 'Lollie': 5, 'Lorene': 5, 'Louis': 833, 'Love': 5, 'Lovisa': 5, 'Lucina': 5, 'Lynn': 35, 'Madora': 5, 'Mahalia': 5, 'Manervia': 5, 'Manuela': 5, 'Margarett': 5, 'Margaretta': 5, 'Margarita': 5, 'Marilla': 5, 'Mignon': 5, 'Mozella': 5, 'Natalie': 5, 'Nelia': 5, 'Nolie': 5, 'Omie': 5, 'Opal': 5, 'Ossie': 14, 'Ottie': 5, 'Ottilia': 5, 'Parthenia': 5, 'Penelope': 5, 'Pinkey': 5, 'Pollie': 5, 'Rennie': 5, 'Reta': 5, 'Roena': 5, 'Rosalee': 5, 'Roseanna': 5, 'Ruthie': 5, 'Sabra': 5, 'Sannie': 5, 'Selena': 5, 'Sibyl': 5, 'Tella': 5, 'Tempie': 5, 'Tennessee': 5, 'Teressa': 5, 'Texas': 5, 'Theda': 5, 'Thelma': 5, 'Thursa': 5, 'Ula': 5, 'Vannie': 5, 'Verona': 5, 'Vertie': 5, 'Wilma': 5, 'Edward': 2364, 'Albert': 1493, 'Samuel': 1024, 'David': 869, 'Charlie': 730, 'Richard': 728, 'Andrew': 644, 'Daniel': 643, 'Ernest': 615, 'Will': 588, 'Oscar': 544, 'Lewis': 517, 'Peter': 496, 'Benjamin': 490, 'Frederick': 483, 'Alfred': 469, 'Sam': 457, 'Roy': 440, 'Herbert': 424, 'Jacob': 404, 'Tom': 399, 'Elmer': 373, 'Carl': 372, 'Howard': 357, 'Martin': 357, 'Michael': 354, 'Bert': 348, 'Herman': 347, 'Jim': 345, 'Harvey': 344, 'Earl': 335, 'Eugene': 328, 'Ralph': 317, 'Ed': 310, 'Edwin': 309, 'Ben': 305, 'Charley': 305, 'Paul': 301, 'Isaac': 274, 'Otto': 271, 'Luther': 260, 'Lawrence': 257, 'Patrick': 248, 'Guy': 239, 'Oliver': 234, 'Theodore': 232, 'Hugh': 224, 'Alexander': 211, 'August': 210, 'Floyd': 206, 'Homer': 205, 'Jack': 204, 'Leonard': 200, 'Horace': 199, 'Philip': 186, 'Allen': 184, 'Archie': 183, 'Stephen': 176, 'Chester': 168, 'Willis': 166, 'Raymond': 165, 'Rufus': 163, 'Warren': 158, 'Milton': 149, 'Alex': 147, 'Julius': 143, 'Bernard': 140, 'Dan': 140, 'Jerry': 136, 'Calvin': 134, 'Perry': 134, 'Dave': 131, 'Anthony': 130, 'Amos': 128, 'Dennis': 128, 'Leroy': 124, 'Wesley': 123, 'Alonzo': 122, 'Garfield': 122, 'Franklin': 120, 'Emil': 119, 'Leon': 118, 'Nathan': 114, 'Harold': 113, 'Matthew': 113, 'Levi': 112, 'Moses': 111, 'Everett': 110, 'Lester': 109, 'Winfield': 108, 'Adam': 104, 'Lloyd': 104, 'Mack': 104, 'Fredrick': 103, 'Jay': 103, 'Jess': 103, 'Melvin': 103, 'Noah': 103, 'Aaron': 102, 'Alvin': 102, 'Norman': 102, 'Gilbert': 101, 'Elijah': 100, 'Victor': 100, 'Gus': 99, 'Nelson': 99, 'Jasper': 98, 'Silas': 98, 'Jake': 96, 'Christopher': 95, 'Mike': 95, 'Percy': 94, 'Adolph': 93, 'Maurice': 93, 'Cornelius': 92, 'Felix': 92, 'Reuben': 92, 'Wallace': 91, 'Claud': 90, 'Roscoe': 90, 'Sylvester': 89, 'Earnest': 88, 'Hiram': 88, 'Otis': 88, 'Simon': 88, 'Willard': 88, 'Irvin': 86, 'Mark': 85, 'Jose': 84, 'Wilbur': 82, 'Abraham': 81, 'Virgil': 81, 'Clinton': 79, 'Elbert': 79, 'Marshall': 78, 'Owen': 78, 'Wiley': 78, 'Anton': 77, 'Morris': 77, 'Manuel': 75, 'Phillip': 75, 'Augustus': 74, 'Emmett': 74, 'Eli': 73, 'Nicholas': 73, 'Wilson': 72, 'Harley': 70, 'Newton': 70, 'Timothy': 70, 'Marvin': 69, 'Ross': 69, 'Curtis': 68, 'Edmund': 67, 'Jeff': 66, 'Elias': 65, 'Harrison': 65, 'Stanley': 65, 'Columbus': 64, 'Lon': 64, 'Russell': 62, 'Solomon': 62, 'Arch': 61, 'Asa': 60, 'Clayton': 60, 'Enoch': 60, 'Irving': 60, 'Mathew': 60, 'Nathaniel': 60, 'Scott': 60, 'Hubert': 59, 'Lemuel': 59, 'Andy': 58, 'Ellis': 58, 'Emanuel': 57, 'Joshua': 57, 'Millard': 56, 'Vernon': 56, 'Wade': 56, 'Cyrus': 54, 'Miles': 54, 'Rudolph': 54, 'Sherman': 54, 'Austin': 53, 'Bill': 53, 'Chas': 53, 'Monroe': 53, 'Byron': 52, 'Edd': 52, 'Emery': 52, 'Grant': 52, 'Jerome': 52, 'Max': 52, 'Mose': 52, 'Steve': 52, 'Gordon': 51, 'Abe': 50, 'Pete': 50, 'Chris': 49, 'Clark': 49, 'Gustave': 49, 'Orville': 49, 'Lorenzo': 48, 'Bruce': 47, 'Marcus': 47, 'Preston': 47, 'Bob': 46, 'Dock': 46, 'Donald': 46, 'Jackson': 46, 'Barney': 44, 'Delbert': 44, 'Edmond': 44, 'Anderson': 43, 'Christian': 43, 'Jefferson': 43, 'Luke': 43, 'Neal': 43, 'Burt': 42, 'Ike': 42, 'Myron': 42, 'Tony': 42, 'Conrad': 41, 'Joel': 41, 'Matt': 41, 'Riley': 41, 'Vincent': 41, 'Emory': 40, 'Isaiah': 40, 'Nick': 40, 'Ezra': 39, 'Green': 39, 'Juan': 39, 'Clifton': 38, 'Lucius': 38, 'Porter': 38, 'Arnold': 37, 'Bud': 37, 'Jeremiah': 37, 'Taylor': 37, 'Forrest': 36, 'Roland': 36, 'Spencer': 35, 'Burton': 34, 'Don': 34, 'Emmet': 34, 'Gustav': 33, 'Morgan': 33, 'Ned': 33, 'Van': 33, 'Ambrose': 32, 'Chauncey': 32, 'Elisha': 32, 'Ferdinand': 32, 'General': 32, 'Julian': 32, 'Kenneth': 32, 'Mitchell': 32, 'Josh': 31, 'Judson': 31, 'Lyman': 31, 'Napoleon': 31, 'Pedro': 31, 'Berry': 30, 'Dewitt': 30, 'Ervin': 30, 'Forest': 30, 'Pink': 30, 'Ruben': 30, 'Sanford': 30, 'Ward': 30, 'Douglas': 29, 'Ole': 29, 'Omer': 29, 'Ulysses': 29, 'Walker': 29, 'Wilbert': 29, 'Adelbert': 28, 'Benjiman': 28, 'Ivan': 28, 'Jonas': 28, 'Major': 28, 'Abner': 27, 'Archibald': 27, 'Caleb': 27, 'Clint': 27, 'Dudley': 27, 'Granville': 27, 'King': 27, 'Merton': 27, 'Antonio': 26, 'Carroll': 26, 'Freeman': 26, 'Josiah': 26, 'Milo': 26, 'Royal': 26, 'Dick': 25, 'Earle': 25, 'Elza': 25, 'Emerson': 25, 'Fletcher': 25, 'Judge': 25, 'Laurence': 25, 'Neil': 25, 'Roger': 25, 'Seth': 25, 'Glen': 24, 'Hugo': 24, 'Washington': 24, 'Elwood': 23, 'Gust': 23, 'Harmon': 23, 'Jordan': 23, 'Simeon': 23, 'Wayne': 23, 'Wilber': 23, 'Clem': 22, 'Evan': 22, 'Frederic': 22, 'Irwin': 22, 'Junius': 22, 'Lafayette': 22, 'Loren': 22, 'Madison': 22, 'Mason': 22, 'Orval': 22, 'Abram': 21, 'Aubrey': 21, 'Elliott': 21, 'Hans': 21, 'Karl': 21, 'Minor': 21, 'Wash': 21, 'Wilfred': 21, 'Allan': 20, 'Alphonse': 20, 'Dallas': 20, 'Isiah': 20, 'Jason': 20, 'Johnny': 20, 'Lawson': 20, 'Lew': 20, 'Micheal': 20, 'Orin': 20, 'Addison': 19, 'Cal': 19, 'Erastus': 19, 'Francisco': 19, 'Hardy': 19, 'Lucien': 19, 'Randolph': 19, 'Stewart': 19, 'Vern': 19, 'Wilmer': 19, 'Zack': 19, 'Adrian': 18, 'Alvah': 18, 'Bertram': 18, 'Clay': 18, 'Ephraim': 18, 'Fritz': 18, 'Giles': 18, 'Grover': 18, 'Harris': 18, 'Isom': 18, 'Jesus': 18, 'Johnie': 18, 'Jonathan': 18, 'Lucian': 18, 'Malcolm': 18, 'Merritt': 18, 'Otho': 18, 'Perley': 18, 'Rolla': 18, 'Sandy': 18, 'Tomas': 18, 'Wilford': 18, 'Adolphus': 17, 'Angus': 17, 'Arther': 17, 'Carlos': 17, 'Cary': 17, 'Cassius': 17, 'Davis': 17, 'Hamilton': 17, 'Harve': 17, 'Israel': 17, 'Leander': 17, 'Melville': 17, 'Murray': 17, 'Pleasant': 17, 'Sterling': 17, 'Steven': 17, 'Axel': 16, 'Boyd': 16, 'Bryant': 16, 'Clement': 16, 'Erwin': 16, 'Ezekiel': 16, 'Foster': 16, 'Geo': 16, 'Houston': 16, 'Issac': 16, 'Jules': 16, 'Larkin': 16, 'Mat': 16, 'Morton': 16, 'Orlando': 16, 'Pierce': 16, 'Prince': 16, 'Rollie': 16, 'Rollin': 16, 'Sim': 16, 'Stuart': 16, 'Wilburn': 16, 'Bennett': 15, 'Casper': 15, 'Christ': 15, 'Egbert': 15, 'Elmo': 15, 'Gabriel': 15, 'Hector': 15, 'Horatio': 15, 'Lige': 15, 'Saul': 15, 'Smith': 15, 'Squire': 15, 'Tobe': 15, 'Wyatt': 15, 'Alford': 14, 'Alton': 14, 'Andres': 14, 'Burl': 14, 'Cicero': 14, 'Dean': 14, 'Dorsey': 14, 'Enos': 14, 'Howell': 14, 'Loyd': 14, 'Mahlon': 14, 'Nat': 14, 'Omar': 14, 'Oran': 14, 'Parker': 14, 'Raleigh': 14, 'Reginald': 14, 'Rubin': 14, 'Seymour': 14, 'Wm': 14, 'Young': 14, 'Benjamine': 13, 'Carlton': 13, 'Eldridge': 13, 'Elzie': 13, 'Garrett': 13, 'Isham': 13, 'Johnson': 13, 'Larry': 13, 'Logan': 13, 'Merrill': 13, 'Mont': 13, 'Oren': 13, 'Pierre': 13, 'Rex': 13, 'Rodney': 13, 'Ted': 13, 'Webster': 13, 'West': 13, 'Wheeler': 13, 'Willam': 13, 'Al': 12, 'Aloysius': 12, 'Alvie': 12, 'Art': 12, 'Bailey': 12, 'Benjaman': 12, 'Beverly': 12, 'Bishop': 12, 'Cloyd': 12, 'Coleman': 12, 'Dana': 12, 'Duncan': 12, 'Dwight': 12, 'Emile': 12, 'Evert': 12, 'Henderson': 12, 'Hunter': 12, 'Lem': 12, 'Luis': 12, 'Mathias': 12, 'Maynard': 12, 'Miguel': 12, 'Mortimer': 12, 'Nels': 12, 'Norris': 12, 'Pat': 12, 'Phil': 12, 'Rush': 12, 'Santiago': 12, 'Sol': 12, 'Sydney': 12, 'Thaddeus': 12, 'Thornton': 12, 'Tim': 12, 'Travis': 12, 'Truman': 12, 'Watson': 12, 'Webb': 12, 'Wellington': 12, 'Winfred': 12, 'Wylie': 12, 'Alec': 11, 'Basil': 11, 'Baxter': 11, 'Bertrand': 11, 'Buford': 11, 'Burr': 11, 'Cleveland': 11, 'Colonel': 11, 'Dempsey': 11, 'Early': 11, 'Ellsworth': 11, 'Fate': 11, 'Finley': 11, 'Gabe': 11, 'Garland': 11, 'Gerald': 11, 'Herschel': 11, 'Hezekiah': 11, 'Justus': 11, 'Lindsey': 11, 'Marcellus': 11, 'Olaf': 11, 'Olin': 11, 'Pablo': 11, 'Rolland': 11, 'Turner': 11, 'Verne': 11, 'Volney': 11, 'Williams': 11, 'Almon': 10, 'Alois': 10, 'Alonza': 10, 'Anson': 10, 'Authur': 10, 'Benton': 10, 'Billie': 10, 'Cornelious': 10, 'Darius': 10, 'Denis': 10, 'Dillard': 10, 'Doctor': 10, 'Elvin': 10, 'Eric': 10, 'Evans': 10, 'Gideon': 10, 'Haywood': 10, 'Hilliard': 10, 'Hosea': 10, 'Lincoln': 10, 'Lonzo': 10, 'Lucious': 10, 'Lum': 10, 'Malachi': 10, 'Newt': 10, 'Noel': 10, 'Orie': 10, 'Palmer': 10, 'Pinkney': 10, 'Sumner': 10, 'Terry': 10, 'Urban': 10, 'Uriah': 10, 'Valentine': 10, 'Waldo': 10, 'Warner': 10, 'Wong': 10, 'Zeb': 10, 'Abel': 9, 'Alden': 9, 'Archer': 9, 'Avery': 9, 'Carson': 9, 'Cullen': 9, 'Doc': 9, 'Eben': 9, 'Elige': 9, 'Elmore': 9, 'Ernst': 9, 'Finis': 9, 'Godfrey': 9, 'Guss': 9, 'Hamp': 9, 'Hermann': 9, 'Isadore': 9, 'Isreal': 9, 'Jones': 9, 'Lafe': 9, 'Leland': 9, 'Llewellyn': 9, 'Ludwig': 9, 'Manford': 9, 'Maxwell': 9, 'Obie': 9, 'Octave': 9, 'Orrin': 9, 'Oswald': 9, 'Park': 9, 'Parley': 9, 'Ramon': 9, 'Rice': 9, 'Stonewall': 9, 'Tillman': 9, 'Aron': 8, 'Ashley': 8, 'Bernhard': 8, 'Berton': 8, 'Buster': 8, 'Butler': 8, 'Carleton': 8, 'Clarance': 8, 'Crawford': 8, 'Danial': 8, 'Dayton': 8, 'Dolphus': 8, 'Elder': 8, 'Ephriam': 8, 'Fayette': 8, 'Felipe': 8, 'Fernando': 8, 'Flem': 8, 'Ford': 8, 'Harlan': 8, 'Hayes': 8, 'Henery': 8, 'Hoy': 8, 'Huston': 8, 'Ivory': 8, 'Jonah': 8, 'Justin': 8, 'Lenard': 8, 'Leopold': 8, 'Lionel': 8, 'Manley': 8, 'Marquis': 8, 'Marshal': 8, 'Mart': 8, 'Odie': 8, 'Olen': 8, 'Oral': 8, 'Orley': 8, 'Otha': 8, 'Press': 8, 'Price': 8, 'Quincy': 8, 'Randall': 8, 'Rich': 8, 'Richmond': 8, 'Romeo': 8, 'Russel': 8, 'Rutherford': 8, 'Shade': 8, 'Shelby': 8, 'Solon': 8, 'Thurman': 8, 'Tilden': 8, 'Troy': 8, 'Woodson': 8, 'Worth': 8, 'Aden': 7, 'Alcide': 7, 'Alf': 7, 'Algie': 7, 'Arlie': 7, 'Bart': 7, 'Bedford': 7, 'Benito': 7, 'Billy': 7, 'Birt': 7, 'Bruno': 7, 'Burley': 7, 'Chancy': 7, 'Claus': 7, 'Cliff': 7, 'Clovis': 7, 'Creed': 7, 'Delos': 7, 'Duke': 7, 'Eber': 7, 'Eligah': 7, 'Elliot': 7, 'Elton': 7, 'Emmitt': 7, 'Gene': 7, 'Golden': 7, 'Hal': 7, 'Hardin': 7, 'Harman': 7, 'Hervey': 7, 'Hollis': 7, 'Ivey': 7, 'Len': 7, 'Lindsay': 7, 'Lonie': 7, 'Lyle': 7, 'Mac': 7, 'Mal': 7, 'Math': 7, 'Miller': 7, 'Orson': 7, 'Osborne': 7, 'Percival': 7, 'Pleas': 7, 'Ples': 7, 'Rafael': 7, 'Raoul': 7, 'Roderick': 7, 'Shelton': 7, 'Sid': 7, 'Theron': 7, 'Tobias': 7, 'Toney': 7, 'Tyler': 7, 'Vance': 7, 'Walton': 7, 'Watt': 7, 'Weaver': 7, 'Wilton': 7, 'Adolf': 6, 'Albin': 6, 'Albion': 6, 'Allison': 6, 'Alpheus': 6, 'Anastacio': 6, 'Andre': 6, 'Arlington': 6, 'Armand': 6, 'Asberry': 6, 'Asbury': 6, 'Asher': 6, 'Augustin': 6, 'Auther': 6, 'Author': 6, 'Ballard': 6, 'Blas': 6, 'Caesar': 6, 'Candido': 6, 'Cato': 6, 'Clarke': 6, 'Clemente': 6, 'Colin': 6, 'Commodore': 6, 'Coy': 6, 'Cruz': 6, 'Curt': 6, 'Damon': 6, 'Davie': 6, 'Delmar': 6, 'Dexter': 6, 'Doss': 6, 'Drew': 6, 'Edson': 6, 'Elam': 6, 'Elihu': 6, 'Ernie': 6, 'Ferd': 6, 'Friend': 6, 'Garry': 6, 'Gary': 6, 'Gustaf': 6, 'Hampton': 6, 'Harrie': 6, 'Hence': 6, 'Hillard': 6, 'Hollie': 6, 'Holmes': 6, 'Hyman': 6, 'Ishmael': 6, 'Jarrett': 6, 'Jessee': 6, 'Joeseph': 6, 'Junious': 6, 'Kirk': 6, 'Levy': 6, 'Mervin': 6, 'Michel': 6, 'Milford': 6, 'Mitchel': 6, 'Noble': 6, 'Obed': 6, 'Orren': 6, 'Ottis': 6, 'Rafe': 6, 'Redden': 6, 'Reese': 6, 'Rube': 6, 'Rupert': 6, 'Salomon': 6, 'Sanders': 6, 'Soloman': 6, 'Stacy': 6, 'Stanford': 6, 'Stanton': 6, 'Thad': 6, 'Titus': 6, 'Tracy': 6, 'Wendell': 6, 'Wilhelm': 6, 'Willian': 6, 'Yee': 6, 'Zeke': 6, 'Ab': 5, 'Abbott': 5, 'Agustus': 5, 'Albertus': 5, 'Almer': 5, 'Alphonso': 5, 'Alvia': 5, 'Arvid': 5, 'Ashby': 5, 'Aurthur': 5, 'Babe': 5, 'Baldwin': 5, 'Barnett': 5, 'Bartholomew': 5, 'Barton': 5, 'Bernie': 5, 'Blaine': 5, 'Boston': 5, 'Brad': 5, 'Bradford': 5, 'Bradley': 5, 'Brooks': 5, 'Buck': 5, 'Budd': 5, 'Ceylon': 5, 'Chalmers': 5, 'Chesley': 5, 'Chin': 5, 'Crockett': 5, 'Cyril': 5, 'Denver': 5, 'Dow': 5, 'Duff': 5, 'Edie': 5, 'Elick': 5, 'Elie': 5, 'Eliga': 5, 'Eliseo': 5, 'Elroy': 5, 'Ely': 5, 'Ennis': 5, 'Enrique': 5, 'Erasmus': 5, 'Esau': 5, 'Everette': 5, 'Firman': 5, 'Fleming': 5, 'Gardner': 5, 'Gee': 5, 'Gorge': 5, 'Gottlieb': 5, 'Gregorio': 5, 'Gregory': 5, 'Gustavus': 5, 'Halsey': 5, 'Handy': 5, 'Hardie': 5, 'Harl': 5, 'Hayden': 5, 'Hays': 5, 'Hermon': 5, 'Hershel': 5, 'Holly': 5, 'Hosteen': 5, 'Hoyt': 5, 'Hudson': 5, 'Huey': 5, 'Humphrey': 5, 'Hunt': 5, 'Hyrum': 5, 'Irven': 5, 'Isam': 5, 'Jabez': 5, 'Jodie': 5, 'Judd': 5, 'Julious': 5, 'Justice': 5, 'Kelly': 5, 'Kit': 5, 'Knute': 5, 'Lavern': 5, 'Lawyer': 5, 'Layton': 5, 'Leonidas': 5, 'Lewie': 5, 'Linwood': 5, 'Loran': 5, 'Lorin': 5, 'Mace': 5, 'Malcom': 5, 'Manly': 5, 'Manson': 5, 'Matthias': 5, 'Merida': 5, 'Miner': 5, 'Montgomery': 5, 'Moroni': 5, 'Murdock': 5, 'Nate': 5, 'Nathanial': 5, 'Nimrod': 5, 'Norval': 5, 'Nova': 5, 'Orion': 5, 'Orla': 5, 'Orrie': 5, 'Payton': 5, 'Philo': 5, 'Phineas': 5, 'Presley': 5, 'Ransom': 5, 'Reece': 5, 'Rene': 5, 'Roswell': 5, 'Rowland': 5, 'Sampson': 5, 'Samual': 5, 'Santos': 5, 'Schuyler': 5, 'Sheppard': 5, 'Spurgeon': 5, 'Starling': 5, 'Sylvanus': 5, 'Theadore': 5, 'Theophile': 5, 'Tilmon': 5, 'Tommy': 5, 'Unknown': 5, 'Vann': 5, 'Wes': 5, 'Winston': 5, 'Wood': 5, 'Woodie': 5, 'Worthy': 5, 'Wright': 5, 'York': 5, 'Zachariah': 5}\n"
          ]
        }
      ]
    },
    {
      "cell_type": "markdown",
      "source": [
        "Find the total of all the counts in the dictionary."
      ],
      "metadata": {
        "id": "w1VsgbgnidXn"
      }
    },
    {
      "cell_type": "code",
      "source": [
        "# Sum Function\n",
        "total = sum(all_names.values())\n",
        "print(total)\n"
      ],
      "metadata": {
        "id": "pvTPikFpiwT7",
        "colab": {
          "base_uri": "https://localhost:8080/"
        },
        "outputId": "d7917396-e582-41d0-8232-86fed915b185"
      },
      "execution_count": null,
      "outputs": [
        {
          "output_type": "stream",
          "name": "stdout",
          "text": [
            "201486\n"
          ]
        }
      ]
    },
    {
      "cell_type": "markdown",
      "source": [
        "Now find a list of names with the highest and lowest counts.  If multiple names have the highest or lowest count, the list will have more than one name.  "
      ],
      "metadata": {
        "id": "XENrB5mSjIMh"
      }
    },
    {
      "cell_type": "code",
      "source": [
        "# Maximum List\n",
        "[(p,v) for p,v in all_names.items() if  v == max(all_names.values()) or v == min(all_names.values())]\n",
        "\n",
        "\n",
        "\n",
        "\n"
      ],
      "metadata": {
        "id": "vrx8CsLRjXzJ",
        "colab": {
          "base_uri": "https://localhost:8080/"
        },
        "outputId": "9e1c7f95-01b0-4724-bb32-2d480e383c18"
      },
      "execution_count": null,
      "outputs": [
        {
          "output_type": "execute_result",
          "data": {
            "text/plain": [
              "[('John', 9701),\n",
              " ('Adelle', 5),\n",
              " ('Adina', 5),\n",
              " ('Adrienne', 5),\n",
              " ('Albertine', 5),\n",
              " ('Alys', 5),\n",
              " ('Ana', 5),\n",
              " ('Araminta', 5),\n",
              " ('Birtha', 5),\n",
              " ('Bulah', 5),\n",
              " ('Caddie', 5),\n",
              " ('Celie', 5),\n",
              " ('Charlotta', 5),\n",
              " ('Concepcion', 5),\n",
              " ('Cordella', 5),\n",
              " ('Corrine', 5),\n",
              " ('Delila', 5),\n",
              " ('Delphine', 5),\n",
              " ('Dosha', 5),\n",
              " ('Elaine', 5),\n",
              " ('Elisa', 5),\n",
              " ('Ellar', 5),\n",
              " ('Elmire', 5),\n",
              " ('Elvina', 5),\n",
              " ('Ena', 5),\n",
              " ('Estie', 5),\n",
              " ('Etter', 5),\n",
              " ('Fronnie', 5),\n",
              " ('Genie', 5),\n",
              " ('Georgina', 5),\n",
              " ('Gracia', 5),\n",
              " ('Guadalupe', 5),\n",
              " ('Gwendolyn', 5),\n",
              " ('Hassie', 5),\n",
              " ('Honora', 5),\n",
              " ('Icy', 5),\n",
              " ('Isa', 5),\n",
              " ('Isadora', 5),\n",
              " ('Johannah', 5),\n",
              " ('Juana', 5),\n",
              " ('Judith', 5),\n",
              " ('Judy', 5),\n",
              " ('Junie', 5),\n",
              " ('Lavonia', 5),\n",
              " ('Lella', 5),\n",
              " ('Lemma', 5),\n",
              " ('Letty', 5),\n",
              " ('Linna', 5),\n",
              " ('Littie', 5),\n",
              " ('Lollie', 5),\n",
              " ('Lorene', 5),\n",
              " ('Love', 5),\n",
              " ('Lovisa', 5),\n",
              " ('Lucina', 5),\n",
              " ('Madora', 5),\n",
              " ('Mahalia', 5),\n",
              " ('Manervia', 5),\n",
              " ('Manuela', 5),\n",
              " ('Margarett', 5),\n",
              " ('Margaretta', 5),\n",
              " ('Margarita', 5),\n",
              " ('Marilla', 5),\n",
              " ('Mignon', 5),\n",
              " ('Mozella', 5),\n",
              " ('Natalie', 5),\n",
              " ('Nelia', 5),\n",
              " ('Nolie', 5),\n",
              " ('Omie', 5),\n",
              " ('Opal', 5),\n",
              " ('Ottie', 5),\n",
              " ('Ottilia', 5),\n",
              " ('Parthenia', 5),\n",
              " ('Penelope', 5),\n",
              " ('Pinkey', 5),\n",
              " ('Pollie', 5),\n",
              " ('Rennie', 5),\n",
              " ('Reta', 5),\n",
              " ('Roena', 5),\n",
              " ('Rosalee', 5),\n",
              " ('Roseanna', 5),\n",
              " ('Ruthie', 5),\n",
              " ('Sabra', 5),\n",
              " ('Sannie', 5),\n",
              " ('Selena', 5),\n",
              " ('Sibyl', 5),\n",
              " ('Tella', 5),\n",
              " ('Tempie', 5),\n",
              " ('Tennessee', 5),\n",
              " ('Teressa', 5),\n",
              " ('Texas', 5),\n",
              " ('Theda', 5),\n",
              " ('Thelma', 5),\n",
              " ('Thursa', 5),\n",
              " ('Ula', 5),\n",
              " ('Vannie', 5),\n",
              " ('Verona', 5),\n",
              " ('Vertie', 5),\n",
              " ('Wilma', 5),\n",
              " ('Ab', 5),\n",
              " ('Abbott', 5),\n",
              " ('Agustus', 5),\n",
              " ('Albertus', 5),\n",
              " ('Almer', 5),\n",
              " ('Alphonso', 5),\n",
              " ('Alvia', 5),\n",
              " ('Arvid', 5),\n",
              " ('Ashby', 5),\n",
              " ('Aurthur', 5),\n",
              " ('Babe', 5),\n",
              " ('Baldwin', 5),\n",
              " ('Barnett', 5),\n",
              " ('Bartholomew', 5),\n",
              " ('Barton', 5),\n",
              " ('Bernie', 5),\n",
              " ('Blaine', 5),\n",
              " ('Boston', 5),\n",
              " ('Brad', 5),\n",
              " ('Bradford', 5),\n",
              " ('Bradley', 5),\n",
              " ('Brooks', 5),\n",
              " ('Buck', 5),\n",
              " ('Budd', 5),\n",
              " ('Ceylon', 5),\n",
              " ('Chalmers', 5),\n",
              " ('Chesley', 5),\n",
              " ('Chin', 5),\n",
              " ('Crockett', 5),\n",
              " ('Cyril', 5),\n",
              " ('Denver', 5),\n",
              " ('Dow', 5),\n",
              " ('Duff', 5),\n",
              " ('Edie', 5),\n",
              " ('Elick', 5),\n",
              " ('Elie', 5),\n",
              " ('Eliga', 5),\n",
              " ('Eliseo', 5),\n",
              " ('Elroy', 5),\n",
              " ('Ely', 5),\n",
              " ('Ennis', 5),\n",
              " ('Enrique', 5),\n",
              " ('Erasmus', 5),\n",
              " ('Esau', 5),\n",
              " ('Everette', 5),\n",
              " ('Firman', 5),\n",
              " ('Fleming', 5),\n",
              " ('Gardner', 5),\n",
              " ('Gee', 5),\n",
              " ('Gorge', 5),\n",
              " ('Gottlieb', 5),\n",
              " ('Gregorio', 5),\n",
              " ('Gregory', 5),\n",
              " ('Gustavus', 5),\n",
              " ('Halsey', 5),\n",
              " ('Handy', 5),\n",
              " ('Hardie', 5),\n",
              " ('Harl', 5),\n",
              " ('Hayden', 5),\n",
              " ('Hays', 5),\n",
              " ('Hermon', 5),\n",
              " ('Hershel', 5),\n",
              " ('Holly', 5),\n",
              " ('Hosteen', 5),\n",
              " ('Hoyt', 5),\n",
              " ('Hudson', 5),\n",
              " ('Huey', 5),\n",
              " ('Humphrey', 5),\n",
              " ('Hunt', 5),\n",
              " ('Hyrum', 5),\n",
              " ('Irven', 5),\n",
              " ('Isam', 5),\n",
              " ('Jabez', 5),\n",
              " ('Jodie', 5),\n",
              " ('Judd', 5),\n",
              " ('Julious', 5),\n",
              " ('Justice', 5),\n",
              " ('Kelly', 5),\n",
              " ('Kit', 5),\n",
              " ('Knute', 5),\n",
              " ('Lavern', 5),\n",
              " ('Lawyer', 5),\n",
              " ('Layton', 5),\n",
              " ('Leonidas', 5),\n",
              " ('Lewie', 5),\n",
              " ('Linwood', 5),\n",
              " ('Loran', 5),\n",
              " ('Lorin', 5),\n",
              " ('Mace', 5),\n",
              " ('Malcom', 5),\n",
              " ('Manly', 5),\n",
              " ('Manson', 5),\n",
              " ('Matthias', 5),\n",
              " ('Merida', 5),\n",
              " ('Miner', 5),\n",
              " ('Montgomery', 5),\n",
              " ('Moroni', 5),\n",
              " ('Murdock', 5),\n",
              " ('Nate', 5),\n",
              " ('Nathanial', 5),\n",
              " ('Nimrod', 5),\n",
              " ('Norval', 5),\n",
              " ('Nova', 5),\n",
              " ('Orion', 5),\n",
              " ('Orla', 5),\n",
              " ('Orrie', 5),\n",
              " ('Payton', 5),\n",
              " ('Philo', 5),\n",
              " ('Phineas', 5),\n",
              " ('Presley', 5),\n",
              " ('Ransom', 5),\n",
              " ('Reece', 5),\n",
              " ('Rene', 5),\n",
              " ('Roswell', 5),\n",
              " ('Rowland', 5),\n",
              " ('Sampson', 5),\n",
              " ('Samual', 5),\n",
              " ('Santos', 5),\n",
              " ('Schuyler', 5),\n",
              " ('Sheppard', 5),\n",
              " ('Spurgeon', 5),\n",
              " ('Starling', 5),\n",
              " ('Sylvanus', 5),\n",
              " ('Theadore', 5),\n",
              " ('Theophile', 5),\n",
              " ('Tilmon', 5),\n",
              " ('Tommy', 5),\n",
              " ('Unknown', 5),\n",
              " ('Vann', 5),\n",
              " ('Wes', 5),\n",
              " ('Winston', 5),\n",
              " ('Wood', 5),\n",
              " ('Woodie', 5),\n",
              " ('Worthy', 5),\n",
              " ('Wright', 5),\n",
              " ('York', 5),\n",
              " ('Zachariah', 5)]"
            ]
          },
          "metadata": {},
          "execution_count": 8
        }
      ]
    },
    {
      "cell_type": "markdown",
      "source": [
        "Explain what's happening in this cell:"
      ],
      "metadata": {
        "id": "6jvjPgt2jozM"
      }
    },
    {
      "cell_type": "code",
      "source": [
        "counts = [int(c) for (n,s,c) in names]\n",
        "print(len(counts))\n",
        "#The code chunk above defines counts as a list of integer values for count in names.\n",
        "#The second line uses the len function to \"count\" how many entries there are. \n",
        "#This is very similar to code chunk 3 (len(names)) but comes to the conclusion via making counts \n",
        "#readable for len rather than utilizing the list names itself."
      ],
      "metadata": {
        "colab": {
          "base_uri": "https://localhost:8080/"
        },
        "id": "trg41W_0jxBT",
        "outputId": "6108499e-8866-47a8-b5cf-00783c60d271"
      },
      "execution_count": null,
      "outputs": [
        {
          "output_type": "stream",
          "name": "stdout",
          "text": [
            "2000\n"
          ]
        }
      ]
    },
    {
      "cell_type": "markdown",
      "source": [
        "For each letter in the alphabet, find the most common name beginning with that letter.  How you do this is up to you, but one approach would be to munge the data into a dictionary where the keys are starting letters and the values are lists from the original list."
      ],
      "metadata": {
        "id": "sc0TcAKrt2vU"
      }
    },
    {
      "cell_type": "code",
      "source": [
        "final_dict= {}\n",
        "\n",
        "for name, number in all_names.items():\n",
        "  needs_to_be_added = True\n",
        "  needs_to_be_updated = False\n",
        "  name_to_delete = None\n",
        "  for name2, number2 in final_dict.items():\n",
        "    if (name[0] == name2[0]):\n",
        "        needs_to_be_added = False\n",
        "        if (number > number2):\n",
        "          needs_to_be_updated = True\n",
        "          name_to_delete = name2\n",
        "          break\n",
        "  if needs_to_be_updated:\n",
        "    del final_dict[name_to_delete]\n",
        "    final_dict[name] = number\n",
        "  if needs_to_be_added:\n",
        "    final_dict[name] = number\n",
        "\n",
        "print(final_dict)\n",
        "#Note no X names listed\n",
        "\n",
        "\n"
      ],
      "metadata": {
        "id": "wH1j0okguN06",
        "colab": {
          "base_uri": "https://localhost:8080/"
        },
        "outputId": "b57040ad-3f23-41ea-c2d8-81c446fb106c"
      },
      "execution_count": null,
      "outputs": [
        {
          "output_type": "stream",
          "name": "stdout",
          "text": [
            "{'Mary': 7092, 'Anna': 2616, 'Ida': 1480, 'Bertha': 1320, 'Sarah': 1288, 'Laura': 1012, 'Nellie': 1001, 'Pearl': 631, 'Katherine': 507, 'Viola': 229, 'John': 9701, 'Zella': 31, 'William': 9563, 'George': 5152, 'Queen': 17, 'Frank': 3255, 'Charles': 5359, 'Henry': 2455, 'Robert': 2427, 'Thomas': 2542, 'Edward': 2364, 'David': 869, 'Oscar': 544, 'Ulysses': 29, 'Young': 14}\n"
          ]
        }
      ]
    },
    {
      "cell_type": "markdown",
      "source": [
        "Use the file menu under the name of the ipynb file to download the ipynb file to your local machine, store it someplace safe, and email a copy to kebasye@clarku.edu to submit this lab."
      ],
      "metadata": {
        "id": "qFHNrHRjmGZv"
      }
    }
  ]
}