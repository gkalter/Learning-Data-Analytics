{
  "cells": [
    {
      "cell_type": "markdown",
      "metadata": {
        "id": "UgLQDTn51Nj6"
      },
      "source": [
        "    # Lab 8   Find the frequencies"
      ]
    },
    {
      "cell_type": "markdown",
      "metadata": {
        "id": "9cJRfM-k1Nj8"
      },
      "source": [
        "Begin by loading the CSV file provided into a DataFrame"
      ]
    },
    {
      "cell_type": "code",
      "source": [
        "import numpy as np\n",
        "import pandas as pd\n",
        "import matplotlib.pyplot as plt"
      ],
      "metadata": {
        "id": "mjmXl4il1PKz"
      },
      "execution_count": null,
      "outputs": []
    },
    {
      "cell_type": "code",
      "source": [
        "df = pd.read_csv('/content/lab8.csv')\n",
        "df.columns = ('Time', 'A', 'B', 'C')\n",
        "df.reindex = ('Time')\n",
        "df"
      ],
      "metadata": {
        "colab": {
          "base_uri": "https://localhost:8080/",
          "height": 419
        },
        "id": "go9WB4u91e0v",
        "outputId": "c7b36fe6-8f99-427f-e613-c4d3a472f439"
      },
      "execution_count": null,
      "outputs": [
        {
          "output_type": "execute_result",
          "data": {
            "text/plain": [
              "                                Time         A         B    C\n",
              "0      1970-01-01 00:00:00.000000000 -0.253426  0.000000 -1.0\n",
              "1      1970-01-01 00:00:00.000022676 -0.468427  0.036466  1.0\n",
              "2      1970-01-01 00:00:00.000045351  0.270393  0.072883  1.0\n",
              "3      1970-01-01 00:00:00.000068027  0.382936  0.109203  1.0\n",
              "4      1970-01-01 00:00:00.000090703 -0.152181  0.145378  1.0\n",
              "...                              ...       ...       ...  ...\n",
              "44095  1970-01-01 00:00:00.999886621 -0.823542 -0.181360 -1.0\n",
              "44096  1970-01-01 00:00:00.999909297  0.374306 -0.145378 -1.0\n",
              "44097  1970-01-01 00:00:00.999931973  0.112836 -0.109203 -1.0\n",
              "44098  1970-01-01 00:00:00.999954649  0.343497 -0.072883 -1.0\n",
              "44099  1970-01-01 00:00:00.999977324  0.058708 -0.036466 -1.0\n",
              "\n",
              "[44100 rows x 4 columns]"
            ],
            "text/html": [
              "\n",
              "  <div id=\"df-eabec990-aa28-4051-8bfd-280ce4079379\">\n",
              "    <div class=\"colab-df-container\">\n",
              "      <div>\n",
              "<style scoped>\n",
              "    .dataframe tbody tr th:only-of-type {\n",
              "        vertical-align: middle;\n",
              "    }\n",
              "\n",
              "    .dataframe tbody tr th {\n",
              "        vertical-align: top;\n",
              "    }\n",
              "\n",
              "    .dataframe thead th {\n",
              "        text-align: right;\n",
              "    }\n",
              "</style>\n",
              "<table border=\"1\" class=\"dataframe\">\n",
              "  <thead>\n",
              "    <tr style=\"text-align: right;\">\n",
              "      <th></th>\n",
              "      <th>Time</th>\n",
              "      <th>A</th>\n",
              "      <th>B</th>\n",
              "      <th>C</th>\n",
              "    </tr>\n",
              "  </thead>\n",
              "  <tbody>\n",
              "    <tr>\n",
              "      <th>0</th>\n",
              "      <td>1970-01-01 00:00:00.000000000</td>\n",
              "      <td>-0.253426</td>\n",
              "      <td>0.000000</td>\n",
              "      <td>-1.0</td>\n",
              "    </tr>\n",
              "    <tr>\n",
              "      <th>1</th>\n",
              "      <td>1970-01-01 00:00:00.000022676</td>\n",
              "      <td>-0.468427</td>\n",
              "      <td>0.036466</td>\n",
              "      <td>1.0</td>\n",
              "    </tr>\n",
              "    <tr>\n",
              "      <th>2</th>\n",
              "      <td>1970-01-01 00:00:00.000045351</td>\n",
              "      <td>0.270393</td>\n",
              "      <td>0.072883</td>\n",
              "      <td>1.0</td>\n",
              "    </tr>\n",
              "    <tr>\n",
              "      <th>3</th>\n",
              "      <td>1970-01-01 00:00:00.000068027</td>\n",
              "      <td>0.382936</td>\n",
              "      <td>0.109203</td>\n",
              "      <td>1.0</td>\n",
              "    </tr>\n",
              "    <tr>\n",
              "      <th>4</th>\n",
              "      <td>1970-01-01 00:00:00.000090703</td>\n",
              "      <td>-0.152181</td>\n",
              "      <td>0.145378</td>\n",
              "      <td>1.0</td>\n",
              "    </tr>\n",
              "    <tr>\n",
              "      <th>...</th>\n",
              "      <td>...</td>\n",
              "      <td>...</td>\n",
              "      <td>...</td>\n",
              "      <td>...</td>\n",
              "    </tr>\n",
              "    <tr>\n",
              "      <th>44095</th>\n",
              "      <td>1970-01-01 00:00:00.999886621</td>\n",
              "      <td>-0.823542</td>\n",
              "      <td>-0.181360</td>\n",
              "      <td>-1.0</td>\n",
              "    </tr>\n",
              "    <tr>\n",
              "      <th>44096</th>\n",
              "      <td>1970-01-01 00:00:00.999909297</td>\n",
              "      <td>0.374306</td>\n",
              "      <td>-0.145378</td>\n",
              "      <td>-1.0</td>\n",
              "    </tr>\n",
              "    <tr>\n",
              "      <th>44097</th>\n",
              "      <td>1970-01-01 00:00:00.999931973</td>\n",
              "      <td>0.112836</td>\n",
              "      <td>-0.109203</td>\n",
              "      <td>-1.0</td>\n",
              "    </tr>\n",
              "    <tr>\n",
              "      <th>44098</th>\n",
              "      <td>1970-01-01 00:00:00.999954649</td>\n",
              "      <td>0.343497</td>\n",
              "      <td>-0.072883</td>\n",
              "      <td>-1.0</td>\n",
              "    </tr>\n",
              "    <tr>\n",
              "      <th>44099</th>\n",
              "      <td>1970-01-01 00:00:00.999977324</td>\n",
              "      <td>0.058708</td>\n",
              "      <td>-0.036466</td>\n",
              "      <td>-1.0</td>\n",
              "    </tr>\n",
              "  </tbody>\n",
              "</table>\n",
              "<p>44100 rows × 4 columns</p>\n",
              "</div>\n",
              "      <button class=\"colab-df-convert\" onclick=\"convertToInteractive('df-eabec990-aa28-4051-8bfd-280ce4079379')\"\n",
              "              title=\"Convert this dataframe to an interactive table.\"\n",
              "              style=\"display:none;\">\n",
              "        \n",
              "  <svg xmlns=\"http://www.w3.org/2000/svg\" height=\"24px\"viewBox=\"0 0 24 24\"\n",
              "       width=\"24px\">\n",
              "    <path d=\"M0 0h24v24H0V0z\" fill=\"none\"/>\n",
              "    <path d=\"M18.56 5.44l.94 2.06.94-2.06 2.06-.94-2.06-.94-.94-2.06-.94 2.06-2.06.94zm-11 1L8.5 8.5l.94-2.06 2.06-.94-2.06-.94L8.5 2.5l-.94 2.06-2.06.94zm10 10l.94 2.06.94-2.06 2.06-.94-2.06-.94-.94-2.06-.94 2.06-2.06.94z\"/><path d=\"M17.41 7.96l-1.37-1.37c-.4-.4-.92-.59-1.43-.59-.52 0-1.04.2-1.43.59L10.3 9.45l-7.72 7.72c-.78.78-.78 2.05 0 2.83L4 21.41c.39.39.9.59 1.41.59.51 0 1.02-.2 1.41-.59l7.78-7.78 2.81-2.81c.8-.78.8-2.07 0-2.86zM5.41 20L4 18.59l7.72-7.72 1.47 1.35L5.41 20z\"/>\n",
              "  </svg>\n",
              "      </button>\n",
              "      \n",
              "  <style>\n",
              "    .colab-df-container {\n",
              "      display:flex;\n",
              "      flex-wrap:wrap;\n",
              "      gap: 12px;\n",
              "    }\n",
              "\n",
              "    .colab-df-convert {\n",
              "      background-color: #E8F0FE;\n",
              "      border: none;\n",
              "      border-radius: 50%;\n",
              "      cursor: pointer;\n",
              "      display: none;\n",
              "      fill: #1967D2;\n",
              "      height: 32px;\n",
              "      padding: 0 0 0 0;\n",
              "      width: 32px;\n",
              "    }\n",
              "\n",
              "    .colab-df-convert:hover {\n",
              "      background-color: #E2EBFA;\n",
              "      box-shadow: 0px 1px 2px rgba(60, 64, 67, 0.3), 0px 1px 3px 1px rgba(60, 64, 67, 0.15);\n",
              "      fill: #174EA6;\n",
              "    }\n",
              "\n",
              "    [theme=dark] .colab-df-convert {\n",
              "      background-color: #3B4455;\n",
              "      fill: #D2E3FC;\n",
              "    }\n",
              "\n",
              "    [theme=dark] .colab-df-convert:hover {\n",
              "      background-color: #434B5C;\n",
              "      box-shadow: 0px 1px 3px 1px rgba(0, 0, 0, 0.15);\n",
              "      filter: drop-shadow(0px 1px 2px rgba(0, 0, 0, 0.3));\n",
              "      fill: #FFFFFF;\n",
              "    }\n",
              "  </style>\n",
              "\n",
              "      <script>\n",
              "        const buttonEl =\n",
              "          document.querySelector('#df-eabec990-aa28-4051-8bfd-280ce4079379 button.colab-df-convert');\n",
              "        buttonEl.style.display =\n",
              "          google.colab.kernel.accessAllowed ? 'block' : 'none';\n",
              "\n",
              "        async function convertToInteractive(key) {\n",
              "          const element = document.querySelector('#df-eabec990-aa28-4051-8bfd-280ce4079379');\n",
              "          const dataTable =\n",
              "            await google.colab.kernel.invokeFunction('convertToInteractive',\n",
              "                                                     [key], {});\n",
              "          if (!dataTable) return;\n",
              "\n",
              "          const docLinkHtml = 'Like what you see? Visit the ' +\n",
              "            '<a target=\"_blank\" href=https://colab.research.google.com/notebooks/data_table.ipynb>data table notebook</a>'\n",
              "            + ' to learn more about interactive tables.';\n",
              "          element.innerHTML = '';\n",
              "          dataTable['output_type'] = 'display_data';\n",
              "          await google.colab.output.renderOutput(dataTable, element);\n",
              "          const docLink = document.createElement('div');\n",
              "          docLink.innerHTML = docLinkHtml;\n",
              "          element.appendChild(docLink);\n",
              "        }\n",
              "      </script>\n",
              "    </div>\n",
              "  </div>\n",
              "  "
            ]
          },
          "metadata": {},
          "execution_count": 4
        }
      ]
    },
    {
      "cell_type": "markdown",
      "metadata": {
        "id": "hDxT-CXH1Nj9"
      },
      "source": [
        "Build ACF plots for each of the columns (I'd suggest using lags up to 400)"
      ]
    },
    {
      "cell_type": "code",
      "source": [
        "series0 = pd.Series(df.A)\n",
        "series0.index = df.Time  \n",
        "series0"
      ],
      "metadata": {
        "colab": {
          "base_uri": "https://localhost:8080/"
        },
        "id": "n_bg_pXTlkMv",
        "outputId": "cf398803-7aaf-4ec5-c630-efb6698f1b83"
      },
      "execution_count": null,
      "outputs": [
        {
          "output_type": "execute_result",
          "data": {
            "text/plain": [
              "Time\n",
              "1970-01-01 00:00:00.000000000   -0.253426\n",
              "1970-01-01 00:00:00.000022676   -0.468427\n",
              "1970-01-01 00:00:00.000045351    0.270393\n",
              "1970-01-01 00:00:00.000068027    0.382936\n",
              "1970-01-01 00:00:00.000090703   -0.152181\n",
              "                                   ...   \n",
              "1970-01-01 00:00:00.999886621   -0.823542\n",
              "1970-01-01 00:00:00.999909297    0.374306\n",
              "1970-01-01 00:00:00.999931973    0.112836\n",
              "1970-01-01 00:00:00.999954649    0.343497\n",
              "1970-01-01 00:00:00.999977324    0.058708\n",
              "Name: A, Length: 44100, dtype: float64"
            ]
          },
          "metadata": {},
          "execution_count": 48
        }
      ]
    },
    {
      "cell_type": "code",
      "source": [
        "lags = range(400)\n",
        "corrsA = np.array([series0.autocorr(n) for n in lags])\n",
        "plt.bar(lags, corrsA)"
      ],
      "metadata": {
        "colab": {
          "base_uri": "https://localhost:8080/",
          "height": 282
        },
        "id": "zRBgtcJi27tW",
        "outputId": "01479b99-2f31-4c96-d95e-fc959a4a655b"
      },
      "execution_count": null,
      "outputs": [
        {
          "output_type": "execute_result",
          "data": {
            "text/plain": [
              "<BarContainer object of 400 artists>"
            ]
          },
          "metadata": {},
          "execution_count": 54
        },
        {
          "output_type": "display_data",
          "data": {
            "text/plain": [
              "<Figure size 432x288 with 1 Axes>"
            ],
            "image/png": "[encoded data removed]"
          },
          "metadata": {
            "needs_background": "light"
          }
        }
      ]
    },
    {
      "cell_type": "code",
      "source": [
        "series1 = pd.Series(df.B)\n",
        "series1.index = df.Time  \n",
        "series1"
      ],
      "metadata": {
        "colab": {
          "base_uri": "https://localhost:8080/"
        },
        "id": "2Zf3K7TApx6N",
        "outputId": "8cf4c5d0-2662-405f-de50-2c225fc65b25"
      },
      "execution_count": null,
      "outputs": [
        {
          "output_type": "execute_result",
          "data": {
            "text/plain": [
              "Time\n",
              "1970-01-01 00:00:00.000000000    0.000000\n",
              "1970-01-01 00:00:00.000022676    0.036466\n",
              "1970-01-01 00:00:00.000045351    0.072883\n",
              "1970-01-01 00:00:00.000068027    0.109203\n",
              "1970-01-01 00:00:00.000090703    0.145378\n",
              "                                   ...   \n",
              "1970-01-01 00:00:00.999886621   -0.181360\n",
              "1970-01-01 00:00:00.999909297   -0.145378\n",
              "1970-01-01 00:00:00.999931973   -0.109203\n",
              "1970-01-01 00:00:00.999954649   -0.072883\n",
              "1970-01-01 00:00:00.999977324   -0.036466\n",
              "Name: B, Length: 44100, dtype: float64"
            ]
          },
          "metadata": {},
          "execution_count": 49
        }
      ]
    },
    {
      "cell_type": "code",
      "source": [
        "lags = range(400)\n",
        "corrsB = np.array([series1.autocorr(n) for n in lags])\n",
        "plt.bar(lags, corrsB)"
      ],
      "metadata": {
        "colab": {
          "base_uri": "https://localhost:8080/",
          "height": 282
        },
        "id": "9_zq8WMXqEqV",
        "outputId": "6bc39aaa-8028-4031-8f84-65e8fbddf0eb"
      },
      "execution_count": null,
      "outputs": [
        {
          "output_type": "execute_result",
          "data": {
            "text/plain": [
              "<BarContainer object of 400 artists>"
            ]
          },
          "metadata": {},
          "execution_count": 109
        },
        {
          "output_type": "display_data",
          "data": {
            "text/plain": [
              "<Figure size 432x288 with 1 Axes>"
            ],
            "image/png": "[encoded data removed]"
          },
          "metadata": {
            "needs_background": "light"
          }
        }
      ]
    },
    {
      "cell_type": "code",
      "source": [
        "series2 = pd.Series(df.C)\n",
        "series2.index = df.Time  \n",
        "series2"
      ],
      "metadata": {
        "colab": {
          "base_uri": "https://localhost:8080/"
        },
        "id": "lb7RdksCp2UK",
        "outputId": "a3714e7c-4b86-4ad8-f9bc-af5c2625d196"
      },
      "execution_count": null,
      "outputs": [
        {
          "output_type": "execute_result",
          "data": {
            "text/plain": [
              "Time\n",
              "1970-01-01 00:00:00.000000000   -1.0\n",
              "1970-01-01 00:00:00.000022676    1.0\n",
              "1970-01-01 00:00:00.000045351    1.0\n",
              "1970-01-01 00:00:00.000068027    1.0\n",
              "1970-01-01 00:00:00.000090703    1.0\n",
              "                                ... \n",
              "1970-01-01 00:00:00.999886621   -1.0\n",
              "1970-01-01 00:00:00.999909297   -1.0\n",
              "1970-01-01 00:00:00.999931973   -1.0\n",
              "1970-01-01 00:00:00.999954649   -1.0\n",
              "1970-01-01 00:00:00.999977324   -1.0\n",
              "Name: C, Length: 44100, dtype: float64"
            ]
          },
          "metadata": {},
          "execution_count": 50
        }
      ]
    },
    {
      "cell_type": "code",
      "source": [
        "lags = range(400)\n",
        "corrsC = np.array([series2.autocorr(n) for n in lags])\n",
        "plt.bar(lags, corrsC)"
      ],
      "metadata": {
        "id": "b4OUBUSD3TAZ",
        "colab": {
          "base_uri": "https://localhost:8080/",
          "height": 282
        },
        "outputId": "9018d0b8-dc83-4f7b-ad6e-4e326bd7978f"
      },
      "execution_count": null,
      "outputs": [
        {
          "output_type": "execute_result",
          "data": {
            "text/plain": [
              "<BarContainer object of 400 artists>"
            ]
          },
          "metadata": {},
          "execution_count": 53
        },
        {
          "output_type": "display_data",
          "data": {
            "text/plain": [
              "<Figure size 432x288 with 1 Axes>"
            ],
            "image/png": "[encoded data removed]"
          },
          "metadata": {
            "needs_background": "light"
          }
        }
      ]
    },
    {
      "cell_type": "markdown",
      "metadata": {
        "id": "7jlLClbt1Nj-"
      },
      "source": [
        "Identify which of the columns is random "
      ]
    },
    {
      "cell_type": "markdown",
      "source": [
        "**It would appear that column A is the random one. The other two have a clear consistent pattern**"
      ],
      "metadata": {
        "id": "Tfbwin1PqVXQ"
      }
    },
    {
      "cell_type": "markdown",
      "metadata": {
        "id": "LX8iKfaF1Nj-"
      },
      "source": [
        "For each non-random column, find lags that give high correlation and use these to compute the frequency.  Note that you'll need to figure out the sample rate to do this."
      ]
    },
    {
      "cell_type": "code",
      "source": [
        "#1st Epoch for series 2 is 172 units indexed at 0\n",
        "#Frequency is 257.894736842 Hertz (1/0.003877551)\n",
        "\n",
        "series1.autocorr(0) #local maximum\n",
        "series1.autocorr(44) # sign shifts negative\n",
        "series1.autocorr(86) #minimum\n",
        "series1.autocorr(130)# sign shifts positive\n",
        "series1.autocorr(172)#maximum\n"
      ],
      "metadata": {
        "colab": {
          "base_uri": "https://localhost:8080/"
        },
        "id": "FnXUd2ulsW_-",
        "outputId": "8f3f8caa-9fa0-4d61-f001-22f9cd16249a"
      },
      "execution_count": null,
      "outputs": [
        {
          "output_type": "execute_result",
          "data": {
            "text/plain": [
              "-0.007888616744708608"
            ]
          },
          "metadata": {},
          "execution_count": 118
        }
      ]
    },
    {
      "cell_type": "code",
      "source": [
        "#Series 2 appears to have the same period as Series #1 even though the rate of change is steeper\n",
        "#Therefore the frequency is also 257.894736842 Hertz(1/0.003877551)\n",
        "\n",
        "series2.autocorr(0)\n",
        "series2.autocorr(44) #sign flips neg\n",
        "series2.autocorr(86) #minimum\n",
        "series2.autocorr(130)#sign shifts positive\n",
        "series2.autocorr(172)#maximum"
      ],
      "metadata": {
        "colab": {
          "base_uri": "https://localhost:8080/"
        },
        "id": "tZZjiRNIqs2m",
        "outputId": "0d7ba3db-4958-482e-c360-4f5c77947ca4"
      },
      "execution_count": null,
      "outputs": [
        {
          "output_type": "execute_result",
          "data": {
            "text/plain": [
              "0.9938991075800823"
            ]
          },
          "metadata": {},
          "execution_count": 124
        }
      ]
    },
    {
      "cell_type": "code",
      "source": [
        "#Since same period calculate the periods per second as hertz above\n",
        "series2[0:172]"
      ],
      "metadata": {
        "colab": {
          "base_uri": "https://localhost:8080/"
        },
        "id": "vQuQarAAvtjE",
        "outputId": "5679ab66-4279-4fb9-eff7-fd9d7fcc8c75"
      },
      "execution_count": null,
      "outputs": [
        {
          "output_type": "execute_result",
          "data": {
            "text/plain": [
              "Time\n",
              "1970-01-01 00:00:00.000000000   -1.0\n",
              "1970-01-01 00:00:00.000022676    1.0\n",
              "1970-01-01 00:00:00.000045351    1.0\n",
              "1970-01-01 00:00:00.000068027    1.0\n",
              "1970-01-01 00:00:00.000090703    1.0\n",
              "                                ... \n",
              "1970-01-01 00:00:00.003786848   -1.0\n",
              "1970-01-01 00:00:00.003809524   -1.0\n",
              "1970-01-01 00:00:00.003832200   -1.0\n",
              "1970-01-01 00:00:00.003854875   -1.0\n",
              "1970-01-01 00:00:00.003877551   -1.0\n",
              "Name: C, Length: 172, dtype: float64"
            ]
          },
          "metadata": {},
          "execution_count": 125
        }
      ]
    },
    {
      "cell_type": "markdown",
      "metadata": {
        "id": "BViE-ocg1Nj_"
      },
      "source": [
        "Complete this lab and turn in the notebook by email by Monday, May 2nd."
      ]
    }
  ],
  "metadata": {
    "kernelspec": {
      "display_name": "Python 3",
      "language": "python",
      "name": "python3"
    },
    "language_info": {
      "codemirror_mode": {
        "name": "ipython",
        "version": 3
      },
      "file_extension": ".py",
      "mimetype": "text/x-python",
      "name": "python",
      "nbconvert_exporter": "python",
      "pygments_lexer": "ipython3",
      "version": "3.7.3"
    },
    "colab": {
      "name": "Lab_8_305_GarrenKalter.ipynb",
      "provenance": []
    }
  },
  "nbformat": 4,
  "nbformat_minor": 0
}