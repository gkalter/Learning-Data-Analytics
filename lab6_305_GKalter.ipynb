{
  "cells": [
    {
      "cell_type": "code",
      "execution_count": null,
      "metadata": {
        "id": "1bKU5Qx1rjCu"
      },
      "outputs": [],
      "source": [
        "# Day, FLTNum,  Origin, Destination, NumPassengers, Revenue"
      ]
    },
    {
      "cell_type": "code",
      "execution_count": null,
      "metadata": {
        "colab": {
          "base_uri": "https://localhost:8080/"
        },
        "id": "na3yC7RirjCv",
        "outputId": "45c5b6f2-3b53-4ce0-fc97-45740e65772b"
      },
      "outputs": [
        {
          "output_type": "execute_result",
          "data": {
            "text/plain": [
              "45"
            ]
          },
          "metadata": {},
          "execution_count": 1
        }
      ],
      "source": [
        "all_flt_nums = list(range(10, 100, 2))\n",
        "len(all_flt_nums)"
      ]
    },
    {
      "cell_type": "code",
      "execution_count": null,
      "metadata": {
        "colab": {
          "base_uri": "https://localhost:8080/"
        },
        "id": "EZoEL4EQrjCw",
        "outputId": "d79c2135-258e-4b73-9b06-f161c194268e"
      },
      "outputs": [
        {
          "output_type": "execute_result",
          "data": {
            "text/plain": [
              "['BOS', 'LAX', 'SEA', 'ORH', 'ATL', 'BWI', 'STL', 'DFW', 'PHX', 'SFO']"
            ]
          },
          "metadata": {},
          "execution_count": 2
        }
      ],
      "source": [
        "all_cities = \"BOS LAX SEA ORH ATL BWI STL DFW PHX SFO\".split(\" \")\n",
        "all_cities"
      ]
    },
    {
      "cell_type": "code",
      "execution_count": null,
      "metadata": {
        "id": "jBYjnjh5rjCx"
      },
      "outputs": [],
      "source": [
        "import random\n",
        "import numpy as np\n",
        "import pandas as pd\n",
        "import matplotlib.pyplot as plt"
      ]
    },
    {
      "cell_type": "code",
      "execution_count": null,
      "metadata": {
        "colab": {
          "base_uri": "https://localhost:8080/"
        },
        "id": "IUONPMberjCx",
        "outputId": "8c4b2208-4bee-4fde-e074-e12379aa5131"
      },
      "outputs": [
        {
          "output_type": "execute_result",
          "data": {
            "text/plain": [
              "{10: ['SFO', 'BOS'],\n",
              " 12: ['ORH', 'LAX'],\n",
              " 14: ['DFW', 'SFO'],\n",
              " 16: ['LAX', 'SEA'],\n",
              " 18: ['SFO', 'PHX'],\n",
              " 20: ['DFW', 'ORH'],\n",
              " 22: ['LAX', 'SEA'],\n",
              " 24: ['STL', 'ATL'],\n",
              " 26: ['SFO', 'ATL'],\n",
              " 28: ['BOS', 'ORH'],\n",
              " 30: ['ATL', 'BOS'],\n",
              " 32: ['ATL', 'DFW'],\n",
              " 34: ['LAX', 'STL'],\n",
              " 36: ['PHX', 'LAX'],\n",
              " 38: ['DFW', 'PHX'],\n",
              " 40: ['LAX', 'SFO'],\n",
              " 42: ['SEA', 'LAX'],\n",
              " 44: ['LAX', 'STL'],\n",
              " 46: ['DFW', 'BWI'],\n",
              " 48: ['ATL', 'SEA'],\n",
              " 50: ['ORH', 'SEA'],\n",
              " 52: ['BOS', 'STL'],\n",
              " 54: ['DFW', 'BWI'],\n",
              " 56: ['LAX', 'PHX'],\n",
              " 58: ['LAX', 'DFW'],\n",
              " 60: ['BOS', 'ATL'],\n",
              " 62: ['SFO', 'PHX'],\n",
              " 64: ['SEA', 'BWI'],\n",
              " 66: ['SFO', 'SEA'],\n",
              " 68: ['ATL', 'ORH'],\n",
              " 70: ['BOS', 'BWI'],\n",
              " 72: ['ORH', 'STL'],\n",
              " 74: ['DFW', 'PHX'],\n",
              " 76: ['SEA', 'ATL'],\n",
              " 78: ['BOS', 'STL'],\n",
              " 80: ['STL', 'SEA'],\n",
              " 82: ['STL', 'SEA'],\n",
              " 84: ['ORH', 'PHX'],\n",
              " 86: ['STL', 'SEA'],\n",
              " 88: ['BOS', 'BWI'],\n",
              " 90: ['BWI', 'SFO'],\n",
              " 92: ['SEA', 'ATL'],\n",
              " 94: ['PHX', 'ORH'],\n",
              " 96: ['ORH', 'SFO'],\n",
              " 98: ['PHX', 'LAX']}"
            ]
          },
          "metadata": {},
          "execution_count": 4
        }
      ],
      "source": [
        "flight_roster = {flt: random.sample(all_cities, 2) for flt in all_flt_nums}\n",
        "flight_roster\n",
        "    \n",
        "    "
      ]
    },
    {
      "cell_type": "code",
      "execution_count": null,
      "metadata": {
        "colab": {
          "base_uri": "https://localhost:8080/"
        },
        "id": "Ons_vZ_5rjCy",
        "outputId": "e3a60a5f-90df-46f5-e03e-a45b371ca389"
      },
      "outputs": [
        {
          "output_type": "execute_result",
          "data": {
            "text/plain": [
              "45"
            ]
          },
          "metadata": {},
          "execution_count": 5
        }
      ],
      "source": [
        "weekday_flts = flight_roster\n",
        "len(weekday_flts)"
      ]
    },
    {
      "cell_type": "code",
      "execution_count": null,
      "metadata": {
        "colab": {
          "base_uri": "https://localhost:8080/"
        },
        "id": "MaKhZ9sNrjCz",
        "outputId": "6e615da6-1d7e-4afb-9cc8-47bfc99bd0fb"
      },
      "outputs": [
        {
          "output_type": "execute_result",
          "data": {
            "text/plain": [
              "30"
            ]
          },
          "metadata": {},
          "execution_count": 6
        }
      ],
      "source": [
        "weekend_flts = {flt: flight_roster[flt] for flt in flight_roster if flt % 3 != 0}\n",
        "len(weekend_flts)"
      ]
    },
    {
      "cell_type": "code",
      "execution_count": null,
      "metadata": {
        "id": "WVv4JyvGrjC0"
      },
      "outputs": [],
      "source": [
        "num_pax_mean = 250\n",
        "revenue_per_pax_mean = 400\n",
        "with open(\"KJBAir_info.csv\", \"w\") as outf:\n",
        "    for day in range(1,365):\n",
        "        roster = weekend_flts if (day%6==0 or day%7==0) else weekday_flts\n",
        "        for flt in roster:\n",
        "            num_pax = np.floor(num_pax_mean + 80*np.random.randn())\n",
        "            revenue = num_pax * np.floor(revenue_per_pax_mean + 50*np.random.randn())\n",
        "            fields = map(str, [day, flt, roster[flt][0], roster[flt][1], num_pax, revenue])\n",
        "            line = \",\".join(fields) + \"\\n\"\n",
        "            outf.write(line)\n",
        "        \n",
        "        "
      ]
    },
    {
      "cell_type": "code",
      "execution_count": null,
      "metadata": {
        "colab": {
          "base_uri": "https://localhost:8080/",
          "height": 419
        },
        "id": "wsoKTV6KrjC1",
        "outputId": "111e895d-379d-4d32-8d29-52607caccb06"
      },
      "outputs": [
        {
          "output_type": "execute_result",
          "data": {
            "text/plain": [
              "       Day  FLTNum Origin Destination  NumPassengers   Revenue\n",
              "0        1      12    ORH         LAX          302.0  130766.0\n",
              "1        1      14    DFW         SFO          277.0  114124.0\n",
              "2        1      16    LAX         SEA          301.0  119798.0\n",
              "3        1      18    SFO         PHX          213.0   74337.0\n",
              "4        1      20    DFW         ORH          396.0  172656.0\n",
              "...    ...     ...    ...         ...            ...       ...\n",
              "14814  364      86    STL         SEA          259.0  104377.0\n",
              "14815  364      88    BOS         BWI          234.0   95004.0\n",
              "14816  364      92    SEA         ATL          299.0  128869.0\n",
              "14817  364      94    PHX         ORH          279.0  103509.0\n",
              "14818  364      98    PHX         LAX          286.0  151866.0\n",
              "\n",
              "[14819 rows x 6 columns]"
            ],
            "text/html": [
              "\n",
              "  <div id=\"df-7b55d036-f50c-429f-8976-6ccf50b7b752\">\n",
              "    <div class=\"colab-df-container\">\n",
              "      <div>\n",
              "<style scoped>\n",
              "    .dataframe tbody tr th:only-of-type {\n",
              "        vertical-align: middle;\n",
              "    }\n",
              "\n",
              "    .dataframe tbody tr th {\n",
              "        vertical-align: top;\n",
              "    }\n",
              "\n",
              "    .dataframe thead th {\n",
              "        text-align: right;\n",
              "    }\n",
              "</style>\n",
              "<table border=\"1\" class=\"dataframe\">\n",
              "  <thead>\n",
              "    <tr style=\"text-align: right;\">\n",
              "      <th></th>\n",
              "      <th>Day</th>\n",
              "      <th>FLTNum</th>\n",
              "      <th>Origin</th>\n",
              "      <th>Destination</th>\n",
              "      <th>NumPassengers</th>\n",
              "      <th>Revenue</th>\n",
              "    </tr>\n",
              "  </thead>\n",
              "  <tbody>\n",
              "    <tr>\n",
              "      <th>0</th>\n",
              "      <td>1</td>\n",
              "      <td>12</td>\n",
              "      <td>ORH</td>\n",
              "      <td>LAX</td>\n",
              "      <td>302.0</td>\n",
              "      <td>130766.0</td>\n",
              "    </tr>\n",
              "    <tr>\n",
              "      <th>1</th>\n",
              "      <td>1</td>\n",
              "      <td>14</td>\n",
              "      <td>DFW</td>\n",
              "      <td>SFO</td>\n",
              "      <td>277.0</td>\n",
              "      <td>114124.0</td>\n",
              "    </tr>\n",
              "    <tr>\n",
              "      <th>2</th>\n",
              "      <td>1</td>\n",
              "      <td>16</td>\n",
              "      <td>LAX</td>\n",
              "      <td>SEA</td>\n",
              "      <td>301.0</td>\n",
              "      <td>119798.0</td>\n",
              "    </tr>\n",
              "    <tr>\n",
              "      <th>3</th>\n",
              "      <td>1</td>\n",
              "      <td>18</td>\n",
              "      <td>SFO</td>\n",
              "      <td>PHX</td>\n",
              "      <td>213.0</td>\n",
              "      <td>74337.0</td>\n",
              "    </tr>\n",
              "    <tr>\n",
              "      <th>4</th>\n",
              "      <td>1</td>\n",
              "      <td>20</td>\n",
              "      <td>DFW</td>\n",
              "      <td>ORH</td>\n",
              "      <td>396.0</td>\n",
              "      <td>172656.0</td>\n",
              "    </tr>\n",
              "    <tr>\n",
              "      <th>...</th>\n",
              "      <td>...</td>\n",
              "      <td>...</td>\n",
              "      <td>...</td>\n",
              "      <td>...</td>\n",
              "      <td>...</td>\n",
              "      <td>...</td>\n",
              "    </tr>\n",
              "    <tr>\n",
              "      <th>14814</th>\n",
              "      <td>364</td>\n",
              "      <td>86</td>\n",
              "      <td>STL</td>\n",
              "      <td>SEA</td>\n",
              "      <td>259.0</td>\n",
              "      <td>104377.0</td>\n",
              "    </tr>\n",
              "    <tr>\n",
              "      <th>14815</th>\n",
              "      <td>364</td>\n",
              "      <td>88</td>\n",
              "      <td>BOS</td>\n",
              "      <td>BWI</td>\n",
              "      <td>234.0</td>\n",
              "      <td>95004.0</td>\n",
              "    </tr>\n",
              "    <tr>\n",
              "      <th>14816</th>\n",
              "      <td>364</td>\n",
              "      <td>92</td>\n",
              "      <td>SEA</td>\n",
              "      <td>ATL</td>\n",
              "      <td>299.0</td>\n",
              "      <td>128869.0</td>\n",
              "    </tr>\n",
              "    <tr>\n",
              "      <th>14817</th>\n",
              "      <td>364</td>\n",
              "      <td>94</td>\n",
              "      <td>PHX</td>\n",
              "      <td>ORH</td>\n",
              "      <td>279.0</td>\n",
              "      <td>103509.0</td>\n",
              "    </tr>\n",
              "    <tr>\n",
              "      <th>14818</th>\n",
              "      <td>364</td>\n",
              "      <td>98</td>\n",
              "      <td>PHX</td>\n",
              "      <td>LAX</td>\n",
              "      <td>286.0</td>\n",
              "      <td>151866.0</td>\n",
              "    </tr>\n",
              "  </tbody>\n",
              "</table>\n",
              "<p>14819 rows × 6 columns</p>\n",
              "</div>\n",
              "      <button class=\"colab-df-convert\" onclick=\"convertToInteractive('df-7b55d036-f50c-429f-8976-6ccf50b7b752')\"\n",
              "              title=\"Convert this dataframe to an interactive table.\"\n",
              "              style=\"display:none;\">\n",
              "        \n",
              "  <svg xmlns=\"http://www.w3.org/2000/svg\" height=\"24px\"viewBox=\"0 0 24 24\"\n",
              "       width=\"24px\">\n",
              "    <path d=\"M0 0h24v24H0V0z\" fill=\"none\"/>\n",
              "    <path d=\"M18.56 5.44l.94 2.06.94-2.06 2.06-.94-2.06-.94-.94-2.06-.94 2.06-2.06.94zm-11 1L8.5 8.5l.94-2.06 2.06-.94-2.06-.94L8.5 2.5l-.94 2.06-2.06.94zm10 10l.94 2.06.94-2.06 2.06-.94-2.06-.94-.94-2.06-.94 2.06-2.06.94z\"/><path d=\"M17.41 7.96l-1.37-1.37c-.4-.4-.92-.59-1.43-.59-.52 0-1.04.2-1.43.59L10.3 9.45l-7.72 7.72c-.78.78-.78 2.05 0 2.83L4 21.41c.39.39.9.59 1.41.59.51 0 1.02-.2 1.41-.59l7.78-7.78 2.81-2.81c.8-.78.8-2.07 0-2.86zM5.41 20L4 18.59l7.72-7.72 1.47 1.35L5.41 20z\"/>\n",
              "  </svg>\n",
              "      </button>\n",
              "      \n",
              "  <style>\n",
              "    .colab-df-container {\n",
              "      display:flex;\n",
              "      flex-wrap:wrap;\n",
              "      gap: 12px;\n",
              "    }\n",
              "\n",
              "    .colab-df-convert {\n",
              "      background-color: #E8F0FE;\n",
              "      border: none;\n",
              "      border-radius: 50%;\n",
              "      cursor: pointer;\n",
              "      display: none;\n",
              "      fill: #1967D2;\n",
              "      height: 32px;\n",
              "      padding: 0 0 0 0;\n",
              "      width: 32px;\n",
              "    }\n",
              "\n",
              "    .colab-df-convert:hover {\n",
              "      background-color: #E2EBFA;\n",
              "      box-shadow: 0px 1px 2px rgba(60, 64, 67, 0.3), 0px 1px 3px 1px rgba(60, 64, 67, 0.15);\n",
              "      fill: #174EA6;\n",
              "    }\n",
              "\n",
              "    [theme=dark] .colab-df-convert {\n",
              "      background-color: #3B4455;\n",
              "      fill: #D2E3FC;\n",
              "    }\n",
              "\n",
              "    [theme=dark] .colab-df-convert:hover {\n",
              "      background-color: #434B5C;\n",
              "      box-shadow: 0px 1px 3px 1px rgba(0, 0, 0, 0.15);\n",
              "      filter: drop-shadow(0px 1px 2px rgba(0, 0, 0, 0.3));\n",
              "      fill: #FFFFFF;\n",
              "    }\n",
              "  </style>\n",
              "\n",
              "      <script>\n",
              "        const buttonEl =\n",
              "          document.querySelector('#df-7b55d036-f50c-429f-8976-6ccf50b7b752 button.colab-df-convert');\n",
              "        buttonEl.style.display =\n",
              "          google.colab.kernel.accessAllowed ? 'block' : 'none';\n",
              "\n",
              "        async function convertToInteractive(key) {\n",
              "          const element = document.querySelector('#df-7b55d036-f50c-429f-8976-6ccf50b7b752');\n",
              "          const dataTable =\n",
              "            await google.colab.kernel.invokeFunction('convertToInteractive',\n",
              "                                                     [key], {});\n",
              "          if (!dataTable) return;\n",
              "\n",
              "          const docLinkHtml = 'Like what you see? Visit the ' +\n",
              "            '<a target=\"_blank\" href=https://colab.research.google.com/notebooks/data_table.ipynb>data table notebook</a>'\n",
              "            + ' to learn more about interactive tables.';\n",
              "          element.innerHTML = '';\n",
              "          dataTable['output_type'] = 'display_data';\n",
              "          await google.colab.output.renderOutput(dataTable, element);\n",
              "          const docLink = document.createElement('div');\n",
              "          docLink.innerHTML = docLinkHtml;\n",
              "          element.appendChild(docLink);\n",
              "        }\n",
              "      </script>\n",
              "    </div>\n",
              "  </div>\n",
              "  "
            ]
          },
          "metadata": {},
          "execution_count": 8
        }
      ],
      "source": [
        "flt2 = pd.read_csv('/content/KJBAir_info.csv')\n",
        "\n",
        "table = pd.DataFrame(flt2)\n",
        "table\n",
        "\n",
        "table.columns = ['Day', 'FLTNum',  'Origin', 'Destination', 'NumPassengers', 'Revenue']\n",
        "table"
      ]
    },
    {
      "cell_type": "code",
      "execution_count": null,
      "metadata": {
        "id": "bxfMMvQtrjC3",
        "colab": {
          "base_uri": "https://localhost:8080/"
        },
        "outputId": "4ef74dd2-5955-47ac-af40-896aa0cc34ec"
      },
      "outputs": [
        {
          "output_type": "execute_result",
          "data": {
            "text/plain": [
              "1468725903.0"
            ]
          },
          "metadata": {},
          "execution_count": 9
        }
      ],
      "source": [
        "# Question 1\n",
        "# Find the total revenue for all flights for the entire year.\n",
        "toprev = table.Revenue.sum()\n",
        "toprev"
      ]
    },
    {
      "cell_type": "code",
      "execution_count": null,
      "metadata": {
        "id": "a5TybsSOrjC3",
        "colab": {
          "base_uri": "https://localhost:8080/",
          "height": 340
        },
        "outputId": "0748e6f7-c168-4fa7-bdec-123f8cdb40e1"
      },
      "outputs": [
        {
          "output_type": "display_data",
          "data": {
            "text/plain": [
              "<Figure size 432x288 with 1 Axes>"
            ],
            "image/png": "[encoded data removed]"
          },
          "metadata": {
            "needs_background": "light"
          }
        }
      ],
      "source": [
        "#Question 2\n",
        "#Find the average number of passengers on each of the 5 flights that originate from BOS.\n",
        "#Note the above is pulled from Moodle, doublechecked its 6 flights originating in BOS\n",
        "\n",
        "#Filter\n",
        "Bosmean = table[table['Origin'] =='BOS']\n",
        "\n",
        "#Identify the mean\n",
        "Bosmean2 = Bosmean.groupby('FLTNum').mean()\n",
        "\n",
        "#View\n",
        "Bosmean2\n",
        "\n",
        "#Plot Flights\n",
        "fig = plt.figure()\n",
        "ax = fig.add_axes([0,0,1,1])\n",
        "x = ('28', '52', '60', '70', '78', '88')\n",
        "y = (249.159341, 252.664835, 244.100000, 249.450549, 254.503846, 244.601648)\n",
        "ax.bar(x, y)\n",
        "ax.set_ylim(200,260)\n",
        "plt.show()"
      ]
    },
    {
      "cell_type": "code",
      "execution_count": null,
      "metadata": {
        "id": "TDHlS_evrjC4",
        "colab": {
          "base_uri": "https://localhost:8080/",
          "height": 111
        },
        "outputId": "f0e8bd20-a25f-44c6-a1dd-6e7937259f89"
      },
      "outputs": [
        {
          "output_type": "execute_result",
          "data": {
            "text/plain": [
              "          Day  NumPassengers     Revenue\n",
              "FLTNum                                  \n",
              "62      66430        93114.0  37656391.0"
            ],
            "text/html": [
              "\n",
              "  <div id=\"df-b8d61d15-2c32-4559-a682-32216c237fa1\">\n",
              "    <div class=\"colab-df-container\">\n",
              "      <div>\n",
              "<style scoped>\n",
              "    .dataframe tbody tr th:only-of-type {\n",
              "        vertical-align: middle;\n",
              "    }\n",
              "\n",
              "    .dataframe tbody tr th {\n",
              "        vertical-align: top;\n",
              "    }\n",
              "\n",
              "    .dataframe thead th {\n",
              "        text-align: right;\n",
              "    }\n",
              "</style>\n",
              "<table border=\"1\" class=\"dataframe\">\n",
              "  <thead>\n",
              "    <tr style=\"text-align: right;\">\n",
              "      <th></th>\n",
              "      <th>Day</th>\n",
              "      <th>NumPassengers</th>\n",
              "      <th>Revenue</th>\n",
              "    </tr>\n",
              "    <tr>\n",
              "      <th>FLTNum</th>\n",
              "      <th></th>\n",
              "      <th></th>\n",
              "      <th></th>\n",
              "    </tr>\n",
              "  </thead>\n",
              "  <tbody>\n",
              "    <tr>\n",
              "      <th>62</th>\n",
              "      <td>66430</td>\n",
              "      <td>93114.0</td>\n",
              "      <td>37656391.0</td>\n",
              "    </tr>\n",
              "  </tbody>\n",
              "</table>\n",
              "</div>\n",
              "      <button class=\"colab-df-convert\" onclick=\"convertToInteractive('df-b8d61d15-2c32-4559-a682-32216c237fa1')\"\n",
              "              title=\"Convert this dataframe to an interactive table.\"\n",
              "              style=\"display:none;\">\n",
              "        \n",
              "  <svg xmlns=\"http://www.w3.org/2000/svg\" height=\"24px\"viewBox=\"0 0 24 24\"\n",
              "       width=\"24px\">\n",
              "    <path d=\"M0 0h24v24H0V0z\" fill=\"none\"/>\n",
              "    <path d=\"M18.56 5.44l.94 2.06.94-2.06 2.06-.94-2.06-.94-.94-2.06-.94 2.06-2.06.94zm-11 1L8.5 8.5l.94-2.06 2.06-.94-2.06-.94L8.5 2.5l-.94 2.06-2.06.94zm10 10l.94 2.06.94-2.06 2.06-.94-2.06-.94-.94-2.06-.94 2.06-2.06.94z\"/><path d=\"M17.41 7.96l-1.37-1.37c-.4-.4-.92-.59-1.43-.59-.52 0-1.04.2-1.43.59L10.3 9.45l-7.72 7.72c-.78.78-.78 2.05 0 2.83L4 21.41c.39.39.9.59 1.41.59.51 0 1.02-.2 1.41-.59l7.78-7.78 2.81-2.81c.8-.78.8-2.07 0-2.86zM5.41 20L4 18.59l7.72-7.72 1.47 1.35L5.41 20z\"/>\n",
              "  </svg>\n",
              "      </button>\n",
              "      \n",
              "  <style>\n",
              "    .colab-df-container {\n",
              "      display:flex;\n",
              "      flex-wrap:wrap;\n",
              "      gap: 12px;\n",
              "    }\n",
              "\n",
              "    .colab-df-convert {\n",
              "      background-color: #E8F0FE;\n",
              "      border: none;\n",
              "      border-radius: 50%;\n",
              "      cursor: pointer;\n",
              "      display: none;\n",
              "      fill: #1967D2;\n",
              "      height: 32px;\n",
              "      padding: 0 0 0 0;\n",
              "      width: 32px;\n",
              "    }\n",
              "\n",
              "    .colab-df-convert:hover {\n",
              "      background-color: #E2EBFA;\n",
              "      box-shadow: 0px 1px 2px rgba(60, 64, 67, 0.3), 0px 1px 3px 1px rgba(60, 64, 67, 0.15);\n",
              "      fill: #174EA6;\n",
              "    }\n",
              "\n",
              "    [theme=dark] .colab-df-convert {\n",
              "      background-color: #3B4455;\n",
              "      fill: #D2E3FC;\n",
              "    }\n",
              "\n",
              "    [theme=dark] .colab-df-convert:hover {\n",
              "      background-color: #434B5C;\n",
              "      box-shadow: 0px 1px 3px 1px rgba(0, 0, 0, 0.15);\n",
              "      filter: drop-shadow(0px 1px 2px rgba(0, 0, 0, 0.3));\n",
              "      fill: #FFFFFF;\n",
              "    }\n",
              "  </style>\n",
              "\n",
              "      <script>\n",
              "        const buttonEl =\n",
              "          document.querySelector('#df-b8d61d15-2c32-4559-a682-32216c237fa1 button.colab-df-convert');\n",
              "        buttonEl.style.display =\n",
              "          google.colab.kernel.accessAllowed ? 'block' : 'none';\n",
              "\n",
              "        async function convertToInteractive(key) {\n",
              "          const element = document.querySelector('#df-b8d61d15-2c32-4559-a682-32216c237fa1');\n",
              "          const dataTable =\n",
              "            await google.colab.kernel.invokeFunction('convertToInteractive',\n",
              "                                                     [key], {});\n",
              "          if (!dataTable) return;\n",
              "\n",
              "          const docLinkHtml = 'Like what you see? Visit the ' +\n",
              "            '<a target=\"_blank\" href=https://colab.research.google.com/notebooks/data_table.ipynb>data table notebook</a>'\n",
              "            + ' to learn more about interactive tables.';\n",
              "          element.innerHTML = '';\n",
              "          dataTable['output_type'] = 'display_data';\n",
              "          await google.colab.output.renderOutput(dataTable, element);\n",
              "          const docLink = document.createElement('div');\n",
              "          docLink.innerHTML = docLinkHtml;\n",
              "          element.appendChild(docLink);\n",
              "        }\n",
              "      </script>\n",
              "    </div>\n",
              "  </div>\n",
              "  "
            ]
          },
          "metadata": {},
          "execution_count": 40
        }
      ],
      "source": [
        "#Question 3\n",
        "#Find the flight number with the highest total revenue for the year (i.e., summed over all days in the year)\n",
        "\n",
        "revsum = table.groupby(['FLTNum']).sum()\n",
        "revsum2 = revsum.sort_values(by='Revenue', ascending = False)\n",
        "revsum2.head(1)"
      ]
    },
    {
      "cell_type": "code",
      "source": [
        "#Question 4\n",
        "#For each day of the year, find the revenue per passenger averaged over all flights on that day.\n",
        "revsum = table.groupby(['Day']).sum()\n",
        "revsum['AvgRev'] = revsum['Revenue']/revsum['NumPassengers']\n",
        "revsum2 = revsum.AvgRev\n",
        "revsum2\n",
        "\n",
        "#Plot\n",
        "revsum2.plot()\n"
      ],
      "metadata": {
        "id": "vBrG58F02KRm",
        "colab": {
          "base_uri": "https://localhost:8080/",
          "height": 296
        },
        "outputId": "8e1ca8a7-77a9-4168-fdfe-2c7f13b78625"
      },
      "execution_count": null,
      "outputs": [
        {
          "output_type": "execute_result",
          "data": {
            "text/plain": [
              "<matplotlib.axes._subplots.AxesSubplot at 0x7fba14333910>"
            ]
          },
          "metadata": {},
          "execution_count": 163
        },
        {
          "output_type": "display_data",
          "data": {
            "text/plain": [
              "<Figure size 432x288 with 1 Axes>"
            ],
            "image/png": "[encoded data removed]"
          },
          "metadata": {
            "needs_background": "light"
          }
        }
      ]
    },
    {
      "cell_type": "code",
      "source": [
        "#Question 5\n",
        "#Find the five most popular destinations \n",
        "#(i.e., the one more people fly to than any other) and the total number of passengers flying to each.\n",
        "despop = table.groupby(['Destination']).sum()\n",
        "despop2= despop.sort_values(by='NumPassengers', ascending = False)\n",
        "despop2.head()\n",
        "\n",
        "#Plot\n",
        "fig = plt.figure()\n",
        "ax = fig.add_axes([0,0,1,1])\n",
        "x = ('SEA', 'PHX', 'BWI', 'STL', 'ATL')\n",
        "y= (675828.0, 493515.0, 428177.0, 401888.0, 392939.0)\n",
        "ax.bar(x, y)\n",
        "ax.set_ylim(250000,700000)\n",
        "plt.show()\n"
      ],
      "metadata": {
        "colab": {
          "base_uri": "https://localhost:8080/",
          "height": 340
        },
        "id": "c6Cr6ScL4pNj",
        "outputId": "dab2e6b6-0fab-49e1-ab73-823c9620607b"
      },
      "execution_count": null,
      "outputs": [
        {
          "output_type": "display_data",
          "data": {
            "text/plain": [
              "<Figure size 432x288 with 1 Axes>"
            ],
            "image/png": "[encoded data removed]"
          },
          "metadata": {
            "needs_background": "light"
          }
        }
      ]
    }
  ],
  "metadata": {
    "kernelspec": {
      "display_name": "Python 3",
      "language": "python",
      "name": "python3"
    },
    "language_info": {
      "codemirror_mode": {
        "name": "ipython",
        "version": 3
      },
      "file_extension": ".py",
      "mimetype": "text/x-python",
      "name": "python",
      "nbconvert_exporter": "python",
      "pygments_lexer": "ipython3",
      "version": "3.7.3"
    },
    "colab": {
      "name": "lab6_305_GKalter.ipynb",
      "provenance": []
    }
  },
  "nbformat": 4,
  "nbformat_minor": 0
}